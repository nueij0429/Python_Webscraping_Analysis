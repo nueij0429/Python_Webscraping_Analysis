{
 "cells": [
  {
   "cell_type": "code",
   "execution_count": 1,
   "id": "e44a5954",
   "metadata": {},
   "outputs": [
    {
     "name": "stdout",
     "output_type": "stream",
     "text": [
      "Name: requests\n",
      "Version: 2.32.3\n",
      "Summary: Python HTTP for Humans.\n",
      "Home-page: https://requests.readthedocs.io\n",
      "Author: Kenneth Reitz\n",
      "Author-email: me@kennethreitz.org\n",
      "License: Apache-2.0\n",
      "Location: C:\\Users\\user\\anaconda3\\Lib\\site-packages\n",
      "Requires: certifi, charset-normalizer, idna, urllib3\n",
      "Required-by: anaconda-catalogs, anaconda-client, anaconda-cloud-auth, anaconda-project, conda, conda-build, conda-repo-cli, conda_package_streaming, cookiecutter, datashader, jupyterlab_server, panel, requests-file, requests-toolbelt, Sphinx, streamlit, tldextract\n"
     ]
    }
   ],
   "source": [
    "!pip show requests"
   ]
  },
  {
   "cell_type": "markdown",
   "id": "0c466a5b",
   "metadata": {},
   "source": [
    "### 숙제 혼자 만든 코드"
   ]
  },
  {
   "cell_type": "code",
   "execution_count": 10,
   "id": "2bf10340",
   "metadata": {},
   "outputs": [
    {
     "name": "stdout",
     "output_type": "stream",
     "text": [
      "https://news.daum.net/economy\n",
      "<class 'requests.models.Response'>\n",
      "200\n",
      "<class 'bs4.element.ResultSet'> 9\n",
      "https://v.daum.net/v/20250408161553109\n",
      "트럼프발 주가폭락에 동아 \"경제적 핵전쟁\" 조선 \"금융위기 후 최악\" 7일 아시아 증시 대폭락 '블랙먼데이'… 아침신문 일제히 1면 장식 한국일보 \"한덕수 복귀하면 큰 변화 생길 것처럼 호들갑, 달라진 건 없다\" [미디어오늘 ] 도널드 트럼프 미국 대통령의 '관세 전쟁'으로 글로벌 증시가 7일 '대폭락'했다. 8일자 아침신문은 '초토화', '쑥대밭', '패닉' 등의 표현과 함께 이를 일제히 1면에 다뤘다. 동아일보는 “미 미디어오늘 27분 전\n",
      "https://v.daum.net/v/20250408160526681\n",
      "공황과 격변의 판도라 박스가 열리다 프레시안 38분 전\n",
      "https://v.daum.net/v/20250408154329660\n",
      "해외서 발 뺀 이중항체, 韓 기업들이 이끈다 조선비즈 60분 전\n",
      "https://v.daum.net/v/20250408153003030\n",
      "탄핵 끝났는데 韓경제 ‘봄’은 언제 오나…박근혜 때와 다른 이유 시사저널 1시간 전\n",
      "https://v.daum.net/v/20250408152923007\n",
      "경상수지 흑자행진에도… 한은 “美 관세에 불확실성 확대” 조선비즈 1시간 전\n",
      "https://v.daum.net/v/20250408144527816\n",
      "국제유가 하락에 흔들리는 정유업계…실적 먹구름 짙어진다 데일리안 2시간 전\n",
      "https://v.daum.net/v/20250408140753767\n",
      "조양호 한진그룹 선대회장 6주기… ‘45년 항공산업’ 리더십 재조명 동아일보 3시간 전\n",
      "https://v.daum.net/v/20250408140302580\n",
      "미국 최대 은행이 \"여성 경영인이 경제 원동력\"이라 말한 이유 오마이뉴스 3시간 전\n",
      "https://v.daum.net/v/20250408124446384\n",
      "불평등 부채질하는 재난: 환경부는 약자 비명 듣고 있나요? 더스쿠프 4시간 전\n"
     ]
    }
   ],
   "source": [
    "#질문: 아래의 url에서 뉴스기사의 링크와 제목을 출력하세요.\n",
    "# 다음 경제 뉴스 URL url = 'https://news.daum.net/economy'\n",
    "\n",
    "import requests\n",
    "from bs4 import BeautifulSoup\n",
    "\n",
    "# 경제 뉴스\n",
    "req_param = {\n",
    "    'sid': 'economy'\n",
    "}\n",
    "# \n",
    "url = 'https://news.daum.net/{sid}'.format(**req_param)\n",
    "print(url)\n",
    "\n",
    "#url2 ='https://news.daum.net/economy'\n",
    "\n",
    "# 요청 헤더 설정 : 브라우저 정보(사람처럼 보이게 하려고 설정함)\n",
    "req_header = {\n",
    "    'user-agent': 'Mozilla/5.0 (Windows NT 10.0; Win64; x64) AppleWebKit/537.36 (KHTML, like Gecko) Chrome/135.0.0.0 Safari/537.36'\n",
    "}\n",
    "\n",
    "# requests 의 get() 함수 호출하기 \n",
    "res = requests.get(url, headers=req_header)\n",
    "res.encoding = 'utf-8'\n",
    "print(type(res))\n",
    "print(res.status_code)\n",
    "\n",
    "# 응답(response)이 OK 이면\n",
    "if res.ok:\n",
    "    # 응답 (response)에서 text 추출 - source 보기\n",
    "    html = res.text\n",
    "    # print(html)\n",
    "    # BeautifulSoup 객체 생성  \n",
    "    soup = BeautifulSoup(html, 'html.parser')\n",
    "    # CSS 선택자\n",
    "    # print(soup.select(\"div.sa_text a[href*='mnews/article']\"))\n",
    "    a_tag_list = soup.select(\"a[href*='v.daum.net/v']\")\n",
    "    limited_list = a_tag_list[:9]\n",
    "    print(type(a_tag_list), len(limited_list))\n",
    "    #[<a href=\"http://\"\">뉴스제목</a>]: ResultSet 객체, <a></a>: tag 객체, 그리고 갯수 출력\n",
    "    for a_tag in a_tag_list[:9]:\n",
    "        title = a_tag.text.strip()\n",
    "        link = a_tag['href']\n",
    "        print(f\"{link}\\n{title}\")  #link와 title을 나눠서 출력 \n",
    "    # <a> 태그 리스트 순회하기    \n",
    "else:\n",
    "    # 응답(response)이 Error 이면 status code 출력    \n",
    "    print(f'Error Code: {res.status_code}')"
   ]
  },
  {
   "cell_type": "code",
   "execution_count": 15,
   "id": "f49955f9",
   "metadata": {},
   "outputs": [
    {
     "name": "stdout",
     "output_type": "stream",
     "text": [
      "======> https://news.daum.net/economy 경제 뉴스 <======\n",
      "https://v.daum.net/v/20250408161553109\n",
      "트럼프발 주가폭락에 동아 \"경제적 핵전쟁\" 조선 \"금융위기 후 최악\"\n",
      "https://v.daum.net/v/20250408160526681\n",
      "공황과 격변의 판도라 박스가 열리다\n",
      "https://v.daum.net/v/20250408154329660\n",
      "해외서 발 뺀 이중항체, 韓 기업들이 이끈다\n",
      "https://v.daum.net/v/20250408153003030\n",
      "탄핵 끝났는데 韓경제 ‘봄’은 언제 오나…박근혜 때와 다른 이유\n",
      "https://v.daum.net/v/20250408152923007\n",
      "경상수지 흑자행진에도… 한은 “美 관세에 불확실성 확대”\n",
      "https://v.daum.net/v/20250408144527816\n",
      "국제유가 하락에 흔들리는 정유업계…실적 먹구름 짙어진다\n",
      "https://v.daum.net/v/20250408140753767\n",
      "조양호 한진그룹 선대회장 6주기… ‘45년 항공산업’ 리더십 재조명\n",
      "https://v.daum.net/v/20250408140302580\n",
      "미국 최대 은행이 \"여성 경영인이 경제 원동력\"이라 말한 이유\n",
      "https://v.daum.net/v/20250408124446384\n",
      "불평등 부채질하는 재난: 환경부는 약자 비명 듣고 있나요?\n",
      "\n",
      "======> https://news.daum.net/people 인물 뉴스 <======\n",
      "https://v.daum.net/v/20250408162102294\n",
      "대장장이가 제 직업입니다, 저는 그게 자랑스럽습니다\n",
      "https://v.daum.net/v/20250408092113275\n",
      "소쿠리를 소꼬리로 잘못 알아듣고… 몸보신 얘기에 웃음만발[사랑합니다]\n",
      "https://v.daum.net/v/20250408080901962\n",
      "한국 발레 전성기 만든 최태지가 아직도 꾸는 꿈\n",
      "https://v.daum.net/v/20250408080028797\n",
      "[MZ순경]’가만히 안아줄 수 있는 경찰 되고파’...시 쓰는 순경\n",
      "https://v.daum.net/v/20250407200810079\n",
      "제69회 신문의 날 기념대회… \"신문 역할·책임 막중\"\n",
      "https://v.daum.net/v/20250407184235757\n",
      "경기일보 K-ECO팀 ‘발암물질 위의 아이들’ 한국신문상·최현호 정치부 차장 협회상 수상\n",
      "https://v.daum.net/v/20250407181900333\n",
      "범인 잡고도 9년째 한 푼 못 받은 '시민덕희', 결국 최후통첩 꺼냈다 [김수호의 리캐스트]\n",
      "https://v.daum.net/v/20250407165417820\n",
      "제10회 조선통신사 한·일 우정 걷기…허남정 단장 동행기<5>\n",
      "https://v.daum.net/v/20250407140512254\n",
      "‘어른 김장하’ 장학생 문형배, 자폐아 키우며 세상 이해한 김형두 [영상]\n"
     ]
    }
   ],
   "source": [
    "#질문:  여러개의 section 중 하나를 선택해서 url에서 뉴스기사의 링크와 제목을 출력하는 코드를 함수로 작성하기\n",
    "# 경제 뉴스 URL url = 'https://news.daum.net/economy'\n",
    "# 사회 뉴스 URL url = 'https://news.daum.net/society'\n",
    "\n",
    "import requests\n",
    "from bs4 import BeautifulSoup\n",
    "\n",
    "section_dict = {\n",
    "    '기후/환경': 'climate',\n",
    "    '사회': 'society',\n",
    "    '경제': 'economy',\n",
    "    '정치': 'politics',\n",
    "    '국제': 'world',\n",
    "    '문화': 'culture',\n",
    "    '생활': 'life',\n",
    "    'IT/과학': 'tech',\n",
    "    '인물': 'people'\n",
    "}\n",
    "\n",
    "def print_news(section_name):\n",
    "\n",
    "    section_eng = section_dict[section_name]\n",
    "    url = f\"https://news.daum.net/{section_eng}\"\n",
    "    print(f\"======> {url} {section_name} 뉴스 <======\")\n",
    "\n",
    "    headers = {\n",
    "        'user-agent': 'Mozilla/5.0 (Windows NT 10.0; Win64; x64) AppleWebKit/537.36 (KHTML, like Gecko) Chrome/135.0.0.0 Safari/537.36'\n",
    "    }\n",
    "\n",
    "    res = requests.get(url, headers=headers)\n",
    "    res.encoding = 'utf-8'\n",
    "\n",
    "    if res.ok:\n",
    "        soup = BeautifulSoup(res.text, 'html.parser')\n",
    "        a_tag_list = soup.select(\"a[href*='v.daum.net/v']\")\n",
    "        printed = 0\n",
    "\n",
    "        for a_tag in a_tag_list:\n",
    "            if printed >= 9:\n",
    "                break\n",
    "\n",
    "            title_tag = a_tag.select_one(\"strong.tit_txt\")\n",
    "            if title_tag:\n",
    "                title = title_tag.get_text(strip=True)\n",
    "                link = a_tag['href']\n",
    "                print(link)\n",
    "                print(title)\n",
    "                printed += 1\n",
    "    else:\n",
    "        print(f\"Error Code: {res.status_code}\")\n",
    "\n",
    "print_news('경제')\n",
    "print()\n",
    "print_news('인물')"
   ]
  },
  {
   "cell_type": "code",
   "execution_count": null,
   "id": "5cad6dc7",
   "metadata": {},
   "outputs": [
    {
     "name": "stdout",
     "output_type": "stream",
     "text": [
      "======> https://news.nate.com/section?mid=n0100 최신뉴스 뉴스 <======\n",
      "https://news.nate.com/view/20250408n21711?mid=n0200\n",
      "홍준표 \"용산은 주술과 불통의 상징, 대통령 되면 청와대로\"대선전략 \"홍준표정권이냐 이재명정권이냐\"\"원내 30명, 당협위원장 100명 같이 하기로\"\"김문수는 탈레반, 난 좀 더 유연한 사람\"대선 출마를 선언한 홍준표 대구...\n",
      "\n",
      "https://news.nate.com/view/20250408n27743?mid=n0200\n",
      "황교안, 9일 무소속 대선출마…\"尹 반국가세력 척결 완수\"황교안 전 국무총리가 28일 서울 종로구 성균관대학교 앞에서 열린 윤석열 대통령 탄핵 반대 집회에 참석하고 있다. 2025.2.28/뉴스1 ⓒ News1 이승배 기자 (서...\n",
      "\n",
      "https://news.nate.com/view/20250408n26482?mid=n0200\n",
      "황교안 '대선 출마·국민의힘 탈당' 선언…\"부정선거 척결 완수해야\"[the300] [청주=뉴시스] 서주영 기자 = 황교안 전 국무총리가 22일 충북도청에서 열린 윤석열 대통령 탄핵 반대 집회에 참석해 발언하고 있다. 2025.03.22. juye...\n",
      "\n",
      "https://news.nate.com/view/20250408n25590?mid=n0200\n",
      "부하 여장교 성폭행 미수 혐의…공군 대령 구속, 증거 찾았다부하 여군을 성폭행하려 한 혐의를 받는 공군 영관급 장교가 구속됐다. 청주지검은 여성 초급 장교를 성폭행하려 한 혐의(군형법상 강제추행·강간치상)로 공군 ...\n",
      "\n",
      "https://news.nate.com/view/20250408n24078?mid=n0200\n",
      "선관위 6·3대선 일정 발표…선거운동 내달 12일~6월 2일윤석열 전 대통령의 파면으로 중앙선거관리위원회가 8일 제21대 대통령선거일을 6월 3일로 확정하면서 주요 선거사무 일정을 발표했다. 선거 운동은 내달 12일부...\n",
      "\n",
      "======> https://news.nate.com/section?mid=n0200 정치 뉴스 <======\n",
      "https://news.nate.com/view/20250408n21711?mid=n0200\n",
      "홍준표 \"용산은 주술과 불통의 상징, 대통령 되면 청와대로\"대선전략 \"홍준표정권이냐 이재명정권이냐\"\"원내 30명, 당협위원장 100명 같이 하기로\"\"김문수는 탈레반, 난 좀 더 유연한 사람\"대선 출마를 선언한 홍준표 대구...\n",
      "\n",
      "https://news.nate.com/view/20250408n27743?mid=n0200\n",
      "황교안, 9일 무소속 대선출마…\"尹 반국가세력 척결 완수\"황교안 전 국무총리가 28일 서울 종로구 성균관대학교 앞에서 열린 윤석열 대통령 탄핵 반대 집회에 참석하고 있다. 2025.2.28/뉴스1 ⓒ News1 이승배 기자 (서...\n",
      "\n",
      "https://news.nate.com/view/20250408n26482?mid=n0200\n",
      "황교안 '대선 출마·국민의힘 탈당' 선언…\"부정선거 척결 완수해야\"[the300] [청주=뉴시스] 서주영 기자 = 황교안 전 국무총리가 22일 충북도청에서 열린 윤석열 대통령 탄핵 반대 집회에 참석해 발언하고 있다. 2025.03.22. juye...\n",
      "\n",
      "https://news.nate.com/view/20250408n25590?mid=n0200\n",
      "부하 여장교 성폭행 미수 혐의…공군 대령 구속, 증거 찾았다부하 여군을 성폭행하려 한 혐의를 받는 공군 영관급 장교가 구속됐다. 청주지검은 여성 초급 장교를 성폭행하려 한 혐의(군형법상 강제추행·강간치상)로 공군 ...\n",
      "\n",
      "https://news.nate.com/view/20250408n24078?mid=n0200\n",
      "선관위 6·3대선 일정 발표…선거운동 내달 12일~6월 2일윤석열 전 대통령의 파면으로 중앙선거관리위원회가 8일 제21대 대통령선거일을 6월 3일로 확정하면서 주요 선거사무 일정을 발표했다. 선거 운동은 내달 12일부...\n",
      "\n",
      "======> https://news.nate.com/section?mid=n0300 경제 뉴스 <======\n",
      "https://news.nate.com/view/20250408n26240?mid=n0300\n",
      "계란 한 판 7천원 육박, 한달 새 15% 뛰어…가공식품 물가 자극하나서울의 한 대형마트에서 시민이 계란을 고르고 있다. 연합뉴스 고병원성 조류인플루엔자(AI) 확산과 봄철 수요 증가 등 영향으로 계란 한 판 소매가격이 한달 새...\n",
      "\n",
      "https://news.nate.com/view/20250408n27674?mid=n0300\n",
      "미중 관세전쟁 격화에 원/달러 환율 1473.2원…금융위기 이후 최고코스피와 코스닥지수가 상승 출발한 8일 오전 서울 중구 하나은행 딜링룸에서 트럼프 대통령 관련 뉴스가 나오는 한편 전광판에 지수가 표시되고 있다./사진=뉴...\n",
      "\n",
      "https://news.nate.com/view/20250408n20740?mid=n0300\n",
      "\"지금 금융위기야?\" 16년만에 나온 최악의 기록, 누가 책임지나귀해진 새 아파트...1분기 분양물량 1만2358가구 연도별 1분기 일반분양물량 추이. 부동산R114 제공 양주역 제일풍경채 위너스카이 투시도 [파이낸셜뉴스] 올해 ...\n",
      "\n",
      "https://news.nate.com/view/20250408n17595?mid=n0300\n",
      "한은이 본 '60세' 정년 연장, \"청년 신규 채용 줄고 노동 시장 이중 구조 심화\"서울 중구 고용복지플러스센터에 붙은 취업 공고의 모습. /뉴스1한국은행이 지난 2016년부터 60세 정년이 법적으로 의무화된 데 대해 그 혜택이 노조가 있는 대...\n",
      "\n",
      "https://news.nate.com/view/20250408n21224?mid=n0300\n",
      "[단독] 메리츠, 홈플러스 대출금리 8% 아닌 14%…타 채권자들은 금리 조정폭 주목이 기사는 2025년 4월 8일 10시 56분 조선비즈 머니무브(MM) 사이트에 표출됐습니다.메리츠금융그룹이 지난해 홈플러스 인수금융 리파이낸싱(차환) 당시 적용했...\n",
      "\n",
      "======> https://news.nate.com/section?mid=n0400 사회 뉴스 <======\n",
      "https://news.nate.com/view/20250408n29682?mid=n0400\n",
      "초등생 살해교사 명재완, 남편과 통화하면서도 범행대상 물색\"세번의 기회 있었는데\",\"한 놈만 걸려라\",\"마지막 기회\" 언급 통화내용 범행 당일에도 '초등학생 살인' 등 검색 흔적 확인…검찰 공소장에 적시 (대전=연합뉴스...\n",
      "\n",
      "https://news.nate.com/view/20250408n27551?mid=n0400\n",
      "야산서 용접 작업하다 잇단 대형 산불…실화 반복 이유는산림 내 화기 소지·사용, 불만 안 내면 '과태료 30만원' 그쳐 (울산=연합뉴스) 장지현 기자 = 최근 울산에서 발생한 2건의 대형 산불 모두 용접 작업을 하다가 ...\n",
      "\n",
      "https://news.nate.com/view/20250408n27576?mid=n0400\n",
      "만취한 26톤 레미콘 운전자, 주택 덮쳤다…70대 거주자 사망ⓒ News1 DB (경남=뉴스1) 박민석 기자 = 한낮에 만취한 상태에서 26톤 레미콘을 몰던 60대가 추돌사고를 낸 후 주택을 덮쳐 70대 거주자가 숨졌다. 경남 마산동...\n",
      "\n",
      "https://news.nate.com/view/20250408n23121?mid=n0400\n",
      "검찰총장 사과했던 김건희 조사…과거 영부인 사례는?지난해 김건희 여사 소환조사를 놓고 검찰 내부 갈등이 불거지기도 했는데요. 당시 중앙지검 수사팀이 김 여사를 검찰청사가 아닌 곳에서 비공개 조사해, 검찰총...\n",
      "\n",
      "https://news.nate.com/view/20250408n22302?mid=n0400\n",
      "[단독]韓전투기 무단촬영 中고교생, 오산기지 美공중전력도 찍어부친은 중국 공안…연관성 여부 수사 최근 경기 수원 공군 제10전투비행단 인근에서 우리 군 전투기를 무단 촬영했다가 적발된 중국인 고교생 A 씨 등 2명이 평...\n",
      "\n",
      "======> https://news.nate.com/section?mid=n0500 세계 뉴스 <======\n",
      "https://news.nate.com/view/20250408n24356?mid=n0500\n",
      "머스크, 트럼프 상호관세 만류했었다…'헤어질 결심' 주목일론 머스크 미국 정부효율부(DOGE) 수장이 9일(현지시간) 워싱턴으로 돌아 가기 위해 플로리다주 웨스트 팜비치에 있는 공항서 대통령 전용기를 타고 있다. 202...\n",
      "\n",
      "https://news.nate.com/view/20250408n17797?mid=n0500\n",
      "트럼프 엄포에 중국 맞불…'관세 쓰나미' 폭풍전야 전세계 패닉국가별 상호관세 발효 D-1…'최대 104%' 예고된 중국 \"끝까지 싸울 것\" 세계증시 '90일 유예설' 오보에 한때 대혼란…美공화당도 \"경제적 대재앙\" 각국, 대미 교...\n",
      "\n",
      "https://news.nate.com/view/20250408n02779?mid=n0500\n",
      "'스트롱맨' 트럼프, 본인 생일에 군사 퍼레이드 추진…\"김정은 떠올라\"도널드 트럼프 미국 대통령이 자신의 생일에 맞춰 수도 워싱턴 DC에서 대규모 군사 퍼레이드를 추진하고 있다는 보도가 나왔다. 미국 육군 창설 250주년 기념일...\n",
      "\n",
      "https://news.nate.com/view/20250408n08389?mid=n0500\n",
      "초토화된 미얀마에 나타난 바퀴벌레들…\"세계 최초 투입\" [지금이뉴스]미얀마에서 규모 7.7의 강진으로 약 3,500명이 숨진 가운데, 싱가포르가 구조 작업에 첨단 기술을 활용한 사이보그 바퀴벌레를 투입해 주목받고 있습니다. 싱가...\n",
      "\n",
      "https://news.nate.com/view/20250408n07472?mid=n0500\n",
      "\"사람 발견하면 발포\" 이스라엘, 가자지구에 '살인구역' 조성이스라엘이 가자지구 내의 건물, 공장, 농장 등을 완전히 없앤 뒤 완충지대를 만들어 ‘살인구역’을 조성한 것으로 전해졌다. 이 지역에 보이는 사람에게는 무...\n",
      "\n",
      "======> https://news.nate.com/section?mid=n0600 IT/과학 뉴스 <======\n",
      "https://news.nate.com/view/20250408n23156?mid=n0600\n",
      "\"화석서 DNA 추출\"…1만 3천년 전 멸종된 '이것' 되살아났다[서울신문]1만여년 전 멸종된 ‘다이어울프’(Dire Wolf)가 되살아났다. 7일(현지시간) 뉴욕타임스(NYT)는 미국 과학자들이 약 1만 3000년 전 멸종된 다이어울프...\n",
      "\n",
      "https://news.nate.com/view/20250408n22133?mid=n0600\n",
      "카메라로 옷장 비추며 \"오늘 뭐 입을까?\"…난리 난 갤럭시 S25 新기능삼성전자가 갤럭시 S25 시리즈에 멀티모달을 활용한 실시간 비주얼 인공지능(AI) 기능을 업데이트한다고 8일 밝혔다. 삼성전자는 “이번 업데이트를 통해 갤럭시...\n",
      "\n",
      "https://news.nate.com/view/20250408n21738?mid=n0600\n",
      "사람 태워 산속 누빈다…늑대 닮은 日 4족보행 로봇 공개일본 가와사키중공업이 사람이 말처럼 탑승해 험한 산악지형도 주행할 수 있는 4족 로봇 '콜레오(CORLEO)'를 공개했다. /유튜브 영상일본 가와사키중공업은 사람...\n",
      "\n",
      "https://news.nate.com/view/20250408n16037?mid=n0600\n",
      "스탠포드대 \"美·中 AI 기술격차 사라져…연구·특허는 이미 역전\"중국의 AI 업체 딥시크와 월가에 AI 열풍을 일으킨 챗GPT를 합성한 시각물. ⓒ 로이터=뉴스1 ⓒ News1 박형기 기자 (서울=뉴스1) 박우영 기자 = 스탠포드 대학이...\n",
      "\n",
      "https://news.nate.com/view/20250408n02528?mid=n0600\n",
      "\"아이폰 17 에어 이렇게 나온다\" 실물 모형 사진 등장 [1일IT템]아이폰 17 에어 실물 모형 사진. X 마인부우 애플의 초슬림 스마트폰 ‘아이폰 17 에어’의 실물 모형(목업) 사진이 등장해 눈길을 끌고 있다. 8일 정보기술(IT)...\n",
      "\n"
     ]
    }
   ],
   "source": [
    "#Nate 뉴스기사 제목 스크래핑하기 (선택) https://news.nate.com/recent?mid=n0100\n",
    "#최신뉴스, 정치 , 경제, 사회, 세계, IT/과학 \n",
    "#6개의 섹션의 뉴스를 출력하는 함수를 생성하여 스크래핑 하기\n",
    "\n",
    "import requests\n",
    "from bs4 import BeautifulSoup\n",
    "\n",
    "section_dict = {\n",
    "    '최신뉴스': 'n0100',\n",
    "    '정치': 'n0200',\n",
    "    '경제': 'n0300',\n",
    "    '사회': 'n0400',\n",
    "    '세계': 'n0500',\n",
    "    'IT/과학': 'n0600'\n",
    "}\n",
    "\n",
    "def print_nate_news(section_name):\n",
    "\n",
    "    mid = section_dict[section_name]\n",
    "    url = f\"https://news.nate.com/section?mid={mid}\"\n",
    "    print(f\"======> {url} {section_name} 뉴스 <======\")\n",
    "\n",
    "    headers = {\n",
    "        'user-agent': 'Mozilla/5.0 (Windows NT 10.0; Win64; x64) AppleWebKit/537.36 (KHTML, like Gecko) Chrome/135.0.0.0 Safari/537.36'\n",
    "    }\n",
    "\n",
    "    res = requests.get(url, headers=headers)\n",
    "    res.encoding = 'euc-kr' #nate는 utf-8이 아닌 euc-kr을 기본 인코딩으로 사용한다.\n",
    "\n",
    "    if res.ok:\n",
    "        soup = BeautifulSoup(res.text, 'html.parser')\n",
    "        a_tag_list = soup.select(\"div.mlt01 a\")[:5]  # 상위 5개만 출력\n",
    "\n",
    "        for a_tag in a_tag_list:\n",
    "            title = a_tag.get_text(strip=True)\n",
    "            link = a_tag['href']\n",
    "            if link.startswith('//'):\n",
    "                link = 'https:' + link\n",
    "            print(link)\n",
    "            print(title)\n",
    "            print()\n",
    "    else:\n",
    "        print(f\"Error Code: {res.status_code}\")\n",
    "\n",
    "for section in section_dict:\n",
    "    print_nate_news(section)"
   ]
  },
  {
   "cell_type": "markdown",
   "id": "8a37ede1",
   "metadata": {},
   "source": [
    "### 강사님 코드로 지난 숙제 검토하기!"
   ]
  },
  {
   "cell_type": "code",
   "execution_count": 9,
   "id": "ec864c1e",
   "metadata": {},
   "outputs": [
    {
     "name": "stdout",
     "output_type": "stream",
     "text": [
      "https://news.daum.net/economy\n",
      "<class 'requests.models.Response'>\n",
      "200\n",
      "<class 'bs4.element.ResultSet'> 9\n",
      "https://v.daum.net/v/20250409094730569\n",
      "3월 취업자 19.3만 늘었지만…청년·건설·제조업 '고용한파' 지속(종합)\n",
      "https://v.daum.net/v/20250409093301936\n",
      "투심 끊긴 CBD 오피스…\"이 값엔 못 팔아\" 잇단 매각 철회도\n",
      "https://v.daum.net/v/20250409092501576\n",
      "車·부품업계에 정책금융 2조원 추가 공급…전기차 보조금 확대(종합)\n",
      "https://v.daum.net/v/20250409091935326\n",
      "‘회복’이라는 착시.. “청년은 떠났고, 일터는 비어 있다”\n",
      "https://v.daum.net/v/20250409091646199\n",
      "[뉴스UP] 미국, 오늘부터 25% 상호관세...뭐가 어떻게 바뀌나?\n",
      "https://v.daum.net/v/20250409081220033\n",
      "[美 관세대응]수출바우처 1000억·긴급경영자금 2500억…남미로 수출다변화\n",
      "https://v.daum.net/v/20250409081011975\n",
      "'상상초월' 104% 관세 맞은 中...트럼프 피해갈 우회 경로 [굿모닝경제]\n",
      "https://v.daum.net/v/20250409080016699\n",
      "'25% 車관세 대응' 유동성 3조 추가 공급…국내 수요 늘려 충격완화\n",
      "https://v.daum.net/v/20250409080013691\n",
      "‘트럼프 美 관세 충격’ 車·부품에 올해 정책금융 13조원 → 15조원\n"
     ]
    }
   ],
   "source": [
    "#Daum 뉴스제목 가져오기\n",
    "import requests\n",
    "from bs4 import BeautifulSoup\n",
    "\n",
    "# 다음 경제 뉴스 URL\n",
    "url = 'https://news.daum.net/economy'\n",
    "\n",
    "print(url)\n",
    "\n",
    "# 요청 헤더\n",
    "req_header = {\n",
    "    'user-agent': 'Mozilla/5.0 (Windows NT 10.0; Win64; x64) AppleWebKit/537.36 (KHTML, like Gecko) Chrome/104.0.0.0 Safari/537.36'\n",
    "}\n",
    "\n",
    "res = requests.get(url, headers=req_header)\n",
    "print(type(res))\n",
    "print(res.status_code)\n",
    "\n",
    "# 정상 응답 여부 확인\n",
    "if res.ok:\n",
    "    res.encoding = 'utf-8' \n",
    "    html = res.text\n",
    "    soup = BeautifulSoup(html, 'html.parser')\n",
    "    \n",
    "    # 기사 제목과 링크 추출\n",
    "    #[<li></li>, <li></li>]\n",
    "    li_tag_list = soup.select('ul.list_newsheadline2 li') #strong 태그가 속한 li 태그를 가져와야 한다!\n",
    "\n",
    "    print(type(li_tag_list), len(li_tag_list))\n",
    "\n",
    "    for li_tag in li_tag_list:        \n",
    "        a_tag = li_tag.find('a')\n",
    "        print(a_tag['href'])\n",
    "        \n",
    "\n",
    "        #select() => ResultSet, select_one() => Tag\n",
    "        strong_tag = li_tag.select_one('div.cont_thumb strong.tit_txt')\n",
    "        #select_one()이 안 될 때 select를 사용해서 if 문으로 변수명[0]으로 가져오면 된다.\n",
    "        #strong_tags = li_tag.select('div.cont_thumb strong.tit_txt')\n",
    "           #if strong_tags:\n",
    "               #strong_tag = strong_tags[0]\n",
    "        title = strong_tag.text.strip()\n",
    "        print(title)\n",
    "\n",
    "\n",
    "else:\n",
    "    print(f'에러코드 = {res.status_code}')"
   ]
  },
  {
   "cell_type": "code",
   "execution_count": 10,
   "id": "709439c5",
   "metadata": {},
   "outputs": [
    {
     "data": {
      "text/plain": [
       "{'기후/환경': 'climate',\n",
       " '사회': 'society',\n",
       " '경제': 'economy',\n",
       " '정치': 'politics',\n",
       " '국제': 'world',\n",
       " '문화': 'culture',\n",
       " '생활': 'life',\n",
       " 'IT/과학': 'tech',\n",
       " '인물': 'people'}"
      ]
     },
     "execution_count": 10,
     "metadata": {},
     "output_type": "execute_result"
    }
   ],
   "source": [
    "section_dict = {'기후/환경':'climate','사회':'society','경제':'economy','정치':'politics',\\\n",
    "                '국제':'world','문화':'culture','생활':'life','IT/과학':'tech','인물':'people'}\n",
    "section_dict"
   ]
  },
  {
   "cell_type": "code",
   "execution_count": 21,
   "id": "a7edd09b",
   "metadata": {},
   "outputs": [],
   "source": [
    "#Daum 뉴스제목 함수로 선언하여 처리하기기\n",
    "import requests\n",
    "from bs4 import BeautifulSoup\n",
    "\n",
    "def print_news(section_name):    \n",
    "    #section = section_dict[section_name]\n",
    "    section = section_dict.get(section_name)\n",
    "    #section이 없을 경우 if문 추가! else 문 안에 나머지 코드를 넣었기 때문에 None일 경우 처리되지 않음.\n",
    "    if section is None:\n",
    "        print('요청하신 Key가 존재하지 않습니다.')\n",
    "    else:\n",
    "\n",
    "        # 요청 Parameter\n",
    "        req_param = {\n",
    "            'section': section\n",
    "        }\n",
    "        url = 'https://news.daum.net/{section}'.format(**req_param)\n",
    "        \n",
    "        print(f'======> {url} {section_name} 뉴스 <======')\n",
    "        \n",
    "        # 요청 헤더 설정 : 브라우저 정보\n",
    "        req_header = {\n",
    "            'user-agent': 'Mozilla/5.0 (Windows NT 10.0; Win64; x64) AppleWebKit/537.36 (KHTML, like Gecko) Chrome/104.0.0.0 Safari/537.36'\n",
    "        }\n",
    "\n",
    "        res = requests.get(url, headers=req_header)   \n",
    "\n",
    "        if res.ok:\n",
    "            res.encoding = 'utf-8' \n",
    "            html = res.text\n",
    "            soup = BeautifulSoup(html, 'html.parser')\n",
    "            \n",
    "            # 기사 제목과 링크 추출\n",
    "            #[<li></li>, <li></li>]\n",
    "            li_tag_list = soup.select('ul.list_newsheadline2 li')\n",
    "\n",
    "            #print(type(li_tag_list), len(li_tag_list))\n",
    "\n",
    "            for li_tag in li_tag_list:        \n",
    "                a_tag = li_tag.find('a')\n",
    "                print(a_tag['href'])\n",
    "                \n",
    "                strong_tag = li_tag.select_one('div.cont_thumb strong.tit_txt')\n",
    "\n",
    "                title = strong_tag.text.strip()\n",
    "                print(title)\n",
    "\n",
    "\n",
    "        else:\n",
    "            print(f'에러코드 = {res.status_code}')"
   ]
  },
  {
   "cell_type": "code",
   "execution_count": 19,
   "id": "145878d8",
   "metadata": {},
   "outputs": [
    {
     "name": "stdout",
     "output_type": "stream",
     "text": [
      "======> https://news.daum.net/economy 경제 뉴스 <======\n",
      "https://v.daum.net/v/20250409095612972\n",
      "회사는 주주만의 것? 상법 개정이 품은 위험\n",
      "https://v.daum.net/v/20250409095604965\n",
      "발의자가 설명하는 ‘상법 왜 바꿨나’\n",
      "https://v.daum.net/v/20250409095558958\n",
      "K밸류업 외치는 사이, 무너지는 한국 제조업\n",
      "https://v.daum.net/v/20250409095110733\n",
      "[친절한 경제] 초고령 사회 진입…'정년 연장'보다 필요한 근로 형태는?\n",
      "https://v.daum.net/v/20250409094730569\n",
      "3월 취업자 19.3만 늘었지만…청년·건설·제조업 '고용한파' 지속(종합)\n",
      "https://v.daum.net/v/20250409093301936\n",
      "투심 끊긴 CBD 오피스…\"이 값엔 못 팔아\" 잇단 매각 철회도\n",
      "https://v.daum.net/v/20250409091935326\n",
      "‘회복’이라는 착시.. “청년은 떠났고, 일터는 비어 있다”\n",
      "https://v.daum.net/v/20250409091646199\n",
      "[뉴스UP] 미국, 오늘부터 25% 상호관세...뭐가 어떻게 바뀌나?\n",
      "https://v.daum.net/v/20250409081220033\n",
      "[美 관세대응]수출바우처 1000억·긴급경영자금 2500억…남미로 수출다변화\n"
     ]
    }
   ],
   "source": [
    "print_news('경제')"
   ]
  },
  {
   "cell_type": "code",
   "execution_count": 20,
   "id": "e37edad6",
   "metadata": {},
   "outputs": [
    {
     "name": "stdout",
     "output_type": "stream",
     "text": [
      "요청하신 Key가 존재하지 않습니다.\n"
     ]
    }
   ],
   "source": [
    "print_news('경제2')"
   ]
  },
  {
   "cell_type": "markdown",
   "id": "805d2904",
   "metadata": {},
   "source": [
    "### Nate 뉴스기사 제목 스크래핑하기(이미지 추가한 코드)"
   ]
  },
  {
   "cell_type": "code",
   "execution_count": 25,
   "id": "e738a156",
   "metadata": {},
   "outputs": [
    {
     "name": "stdout",
     "output_type": "stream",
     "text": [
      "======> https://news.nate.com/section?mid=n0100 최신뉴스 뉴스 <======\n"
     ]
    },
    {
     "data": {
      "text/html": [
       "<img src=\"https://thumbnews.nateimg.co.kr/news90///news.nateimg.co.kr/orgImg/na/2025/04/09/7225927_high.jpg\"/>"
      ],
      "text/plain": [
       "<IPython.core.display.Image object>"
      ]
     },
     "metadata": {},
     "output_type": "display_data"
    },
    {
     "name": "stdout",
     "output_type": "stream",
     "text": [
      "\n",
      "이완규 \"국힘 당적 보유한 적 없다, 정치활동 한 적 없어\"헌법재판관 후보자로 지명된 이완규 법제처장이 9일 오전 서울 여의도 국회에서 열린 제424회 국회(임시회) 법제사법위원회 제1차 전체회의에서 잠시 이석하고 ...\n",
      "https://news.nate.com/view/20250409n19005?mid=n0200\n"
     ]
    },
    {
     "data": {
      "text/html": [
       "<img src=\"https://thumbnews.nateimg.co.kr/news90///news.nateimg.co.kr/orgImg/yt/2025/04/09/PYH2025040906160001300_P2.jpg\"/>"
      ],
      "text/plain": [
       "<IPython.core.display.Image object>"
      ]
     },
     "metadata": {},
     "output_type": "display_data"
    },
    {
     "name": "stdout",
     "output_type": "stream",
     "text": [
      "\n",
      "李 대선출마 공식화…\"위대한 대한민국 향한 길 국민과 걷겠다\"(종합)대표직 사퇴…마지막 최고위서 \"국민이 역경 이겨낼 것, 저도 함께하겠다\" \"韓대행, 주가지수 얼마인지도 모를 것…꼼수 몰두 말고 국민 삶에 관심을\" (서울=연...\n",
      "https://news.nate.com/view/20250409n16925?mid=n0200\n"
     ]
    },
    {
     "data": {
      "text/html": [
       "<img src=\"https://thumbnews.nateimg.co.kr/news90///news.nateimg.co.kr/orgImg/mt/2025/04/09/mt_1744167845266_12692_0.jpg\"/>"
      ],
      "text/plain": [
       "<IPython.core.display.Image object>"
      ]
     },
     "metadata": {},
     "output_type": "display_data"
    },
    {
     "name": "stdout",
     "output_type": "stream",
     "text": [
      "\n",
      "'한덕수, 대통령몫 재판관 지명 불가' 법안, 野주도 법사위 통과[the300](상보)소급효 적용해 한덕수에게 적용 가능케 정청래 국회 법제사법위원회 위원장이 9일 오전 서울 여의도 국회에서 열린 제424회 국회(임시회) 법사위 ...\n",
      "https://news.nate.com/view/20250409n18227?mid=n0200\n"
     ]
    },
    {
     "data": {
      "text/html": [
       "<img src=\"https://thumbnews.nateimg.co.kr/news90///news.nateimg.co.kr/orgImg/yt/2025/04/09/PYH2025040802310001300_P2.jpg\"/>"
      ],
      "text/plain": [
       "<IPython.core.display.Image object>"
      ]
     },
     "metadata": {},
     "output_type": "display_data"
    },
    {
     "name": "stdout",
     "output_type": "stream",
     "text": [
      "\n",
      "우의장, 대선·개헌 동시투표론 사흘만 철회…\"대선 후 논의\"(종합)\"향후 각 정당 의견 수렴…대선주자들, 개헌 골자 공약 제시해달라\" 민주당 내부 '내각제 개헌' 비판에 \"합리적 토론 봉쇄하는 선동\" 반박 (서울=연합뉴스) 설승...\n",
      "https://news.nate.com/view/20250409n18751?mid=n0200\n"
     ]
    },
    {
     "data": {
      "text/html": [
       "<img src=\"https://thumbnews.nateimg.co.kr/news90///news.nateimg.co.kr/orgImg/yt/2025/04/09/PYH2025040710190001300_P2.jpg\"/>"
      ],
      "text/plain": [
       "<IPython.core.display.Image object>"
      ]
     },
     "metadata": {},
     "output_type": "display_data"
    },
    {
     "name": "stdout",
     "output_type": "stream",
     "text": [
      "\n",
      "국민의힘, 다음 달 3일 대선 후보 선출대선 경선 후보등록 이달 14∼15일 여론조사 불공정 시비 차단…'명태균 방지 조항' 도입키로 (서울=연합뉴스) 류미나 조다운 기자 = 국민의힘은 다음 달 3일 전...\n",
      "https://news.nate.com/view/20250409n18638?mid=n0200\n",
      "======> https://news.nate.com/section?mid=n0200 정치 뉴스 <======\n"
     ]
    },
    {
     "data": {
      "text/html": [
       "<img src=\"https://thumbnews.nateimg.co.kr/news90///news.nateimg.co.kr/orgImg/na/2025/04/09/7225927_high.jpg\"/>"
      ],
      "text/plain": [
       "<IPython.core.display.Image object>"
      ]
     },
     "metadata": {},
     "output_type": "display_data"
    },
    {
     "name": "stdout",
     "output_type": "stream",
     "text": [
      "\n",
      "이완규 \"국힘 당적 보유한 적 없다, 정치활동 한 적 없어\"헌법재판관 후보자로 지명된 이완규 법제처장이 9일 오전 서울 여의도 국회에서 열린 제424회 국회(임시회) 법제사법위원회 제1차 전체회의에서 잠시 이석하고 ...\n",
      "https://news.nate.com/view/20250409n19005?mid=n0200\n"
     ]
    },
    {
     "data": {
      "text/html": [
       "<img src=\"https://thumbnews.nateimg.co.kr/news90///news.nateimg.co.kr/orgImg/yt/2025/04/09/PYH2025040906160001300_P2.jpg\"/>"
      ],
      "text/plain": [
       "<IPython.core.display.Image object>"
      ]
     },
     "metadata": {},
     "output_type": "display_data"
    },
    {
     "name": "stdout",
     "output_type": "stream",
     "text": [
      "\n",
      "李 대선출마 공식화…\"위대한 대한민국 향한 길 국민과 걷겠다\"(종합)대표직 사퇴…마지막 최고위서 \"국민이 역경 이겨낼 것, 저도 함께하겠다\" \"韓대행, 주가지수 얼마인지도 모를 것…꼼수 몰두 말고 국민 삶에 관심을\" (서울=연...\n",
      "https://news.nate.com/view/20250409n16925?mid=n0200\n"
     ]
    },
    {
     "data": {
      "text/html": [
       "<img src=\"https://thumbnews.nateimg.co.kr/news90///news.nateimg.co.kr/orgImg/mt/2025/04/09/mt_1744167845266_12692_0.jpg\"/>"
      ],
      "text/plain": [
       "<IPython.core.display.Image object>"
      ]
     },
     "metadata": {},
     "output_type": "display_data"
    },
    {
     "name": "stdout",
     "output_type": "stream",
     "text": [
      "\n",
      "'한덕수, 대통령몫 재판관 지명 불가' 법안, 野주도 법사위 통과[the300](상보)소급효 적용해 한덕수에게 적용 가능케 정청래 국회 법제사법위원회 위원장이 9일 오전 서울 여의도 국회에서 열린 제424회 국회(임시회) 법사위 ...\n",
      "https://news.nate.com/view/20250409n18227?mid=n0200\n"
     ]
    },
    {
     "data": {
      "text/html": [
       "<img src=\"https://thumbnews.nateimg.co.kr/news90///news.nateimg.co.kr/orgImg/yt/2025/04/09/PYH2025040802310001300_P2.jpg\"/>"
      ],
      "text/plain": [
       "<IPython.core.display.Image object>"
      ]
     },
     "metadata": {},
     "output_type": "display_data"
    },
    {
     "name": "stdout",
     "output_type": "stream",
     "text": [
      "\n",
      "우의장, 대선·개헌 동시투표론 사흘만 철회…\"대선 후 논의\"(종합)\"향후 각 정당 의견 수렴…대선주자들, 개헌 골자 공약 제시해달라\" 민주당 내부 '내각제 개헌' 비판에 \"합리적 토론 봉쇄하는 선동\" 반박 (서울=연합뉴스) 설승...\n",
      "https://news.nate.com/view/20250409n18751?mid=n0200\n"
     ]
    },
    {
     "data": {
      "text/html": [
       "<img src=\"https://thumbnews.nateimg.co.kr/news90///news.nateimg.co.kr/orgImg/yt/2025/04/09/PYH2025040710190001300_P2.jpg\"/>"
      ],
      "text/plain": [
       "<IPython.core.display.Image object>"
      ]
     },
     "metadata": {},
     "output_type": "display_data"
    },
    {
     "name": "stdout",
     "output_type": "stream",
     "text": [
      "\n",
      "국민의힘, 다음 달 3일 대선 후보 선출대선 경선 후보등록 이달 14∼15일 여론조사 불공정 시비 차단…'명태균 방지 조항' 도입키로 (서울=연합뉴스) 류미나 조다운 기자 = 국민의힘은 다음 달 3일 전...\n",
      "https://news.nate.com/view/20250409n18638?mid=n0200\n",
      "======> https://news.nate.com/section?mid=n0300 경제 뉴스 <======\n"
     ]
    },
    {
     "data": {
      "text/html": [
       "<img src=\"https://thumbnews.nateimg.co.kr/news90///news.nateimg.co.kr/orgImg/mk/2025/04/09/news-p.v1.20250409.7ac01213edf4429bb74677e7f6765737_P1.jpg\"/>"
      ],
      "text/plain": [
       "<IPython.core.display.Image object>"
      ]
     },
     "metadata": {},
     "output_type": "display_data"
    },
    {
     "name": "stdout",
     "output_type": "stream",
     "text": [
      "\n",
      "\"과일로 간신히 연명합니다\"…원화값 폭락에 유학생들 '멘붕'계엄·관세정책 여파 불확실성 증대달러당 원화값 16년만 최저 수준고환율 직격탄 맞은 미국 유학생들일부 유학생들 휴학하거나 귀국도엔화당 원화값도 3년만 가...\n",
      "https://news.nate.com/view/20250409n17615?mid=n0300\n"
     ]
    },
    {
     "data": {
      "text/html": [
       "<img src=\"https://thumbnews.nateimg.co.kr/news90///news.nateimg.co.kr/orgImg/mk/2025/04/09/news-p.v1.20250408.96d46605438f4fef92e2397fb613309b_P1.png\"/>"
      ],
      "text/plain": [
       "<IPython.core.display.Image object>"
      ]
     },
     "metadata": {},
     "output_type": "display_data"
    },
    {
     "name": "stdout",
     "output_type": "stream",
     "text": [
      "\n",
      "\"우리는 못 받는거 아냐?\" 시한부 국민연금…이것 도입땐 16년 수명연장안상훈 의원, 보건복지부 추계 공개국민연금에 자동조정장치 도입 시기금 고갈 2072년으로 16년 연장이미 OECD 38개국중 24개국 도입도입 논의할 22대 연금특위 ...\n",
      "https://news.nate.com/view/20250409n02718?mid=n0300\n"
     ]
    },
    {
     "data": {
      "text/html": [
       "<img src=\"https://thumbnews.nateimg.co.kr/news90///news.nateimg.co.kr/orgImg/yt/2025/04/09/PYH2025010713940001300_P2.jpg\"/>"
      ],
      "text/plain": [
       "<IPython.core.display.Image object>"
      ]
     },
     "metadata": {},
     "output_type": "display_data"
    },
    {
     "name": "stdout",
     "output_type": "stream",
     "text": [
      "\n",
      "금융당국 \"이달 가계대출 분수령…토허제 풍선효과 면밀 점검\"\"금융권 월별·분기별 경영 목표에 맞춰 가계대출 관리 필요\" 은행권 가계대출 증가 상황에 따라 필요시 자율 관리 강화 (서울=연합뉴스) 이율 기자 = 금융당국...\n",
      "https://news.nate.com/view/20250409n18135?mid=n0300\n"
     ]
    },
    {
     "data": {
      "text/html": [
       "<img src=\"https://thumbnews.nateimg.co.kr/news90///news.nateimg.co.kr/orgImg/yt/2025/04/09/AKR20250409057000009_03_i.jpg\"/>"
      ],
      "text/plain": [
       "<IPython.core.display.Image object>"
      ]
     },
     "metadata": {},
     "output_type": "display_data"
    },
    {
     "name": "stdout",
     "output_type": "stream",
     "text": [
      "\n",
      "R 공포 더 커졌다…JP모건 \"소형주 지수 기준 美침체 확률 79%\"투자 등급 채권 기준 경기침체 가능성 0→25% 서머스 전 재무 \"침체로 가는중…실업자 200만명↑\" '닥터 둠' 루비니는 \"올해 미국 경제, 침체 피할 것\" 1분기 기...\n",
      "https://news.nate.com/view/20250409n14367?mid=n0300\n"
     ]
    },
    {
     "data": {
      "text/html": [
       "<img src=\"https://thumbnews.nateimg.co.kr/news90///news.nateimg.co.kr/orgImg/hr/2025/04/09/rcv.YNA.20250320.PYH2025032014580001300_P1.jpg\"/>"
      ],
      "text/plain": [
       "<IPython.core.display.Image object>"
      ]
     },
     "metadata": {},
     "output_type": "display_data"
    },
    {
     "name": "stdout",
     "output_type": "stream",
     "text": [
      "\n",
      "\"입금 먼저\"vs\"못 믿겠다\"…홈플러스, 이번엔 입점업체와 기싸움서울시내 한 홈플러스 매장 [연합] [헤럴드경제=신현주 기자] 홈플러스가 납품업체에 이어 입점업체(테넌트)와도 정산금 지급을 두고 갈등을 빚고 있다. 입점업...\n",
      "https://news.nate.com/view/20250409n12981?mid=n0300\n",
      "======> https://news.nate.com/section?mid=n0400 사회 뉴스 <======\n"
     ]
    },
    {
     "data": {
      "text/html": [
       "<img src=\"https://thumbnews.nateimg.co.kr/news90///news.nateimg.co.kr/orgImg/yt/2025/04/09/AKR20250408165500004_01_i.jpg\"/>"
      ],
      "text/plain": [
       "<IPython.core.display.Image object>"
      ]
     },
     "metadata": {},
     "output_type": "display_data"
    },
    {
     "name": "stdout",
     "output_type": "stream",
     "text": [
      "\n",
      "못 키운다며 떠난 주인…굶어 죽게 된 반려견 21마리의 비극동물보호법 위반 40대 남성, 1심서 징역형 집행유예 (서울=연합뉴스) 김준태 기자 = 반려견이 21마리까지 불어나 감당하기 어려운 처지가 되자 이들을 집에 놔두...\n",
      "https://news.nate.com/view/20250409n02868?mid=n0400\n"
     ]
    },
    {
     "data": {
      "text/html": [
       "<img src=\"https://thumbnews.nateimg.co.kr/news90///news.nateimg.co.kr/orgImg/jt/2025/04/09/20250409075543260001.png\"/>"
      ],
      "text/plain": [
       "<IPython.core.display.Image object>"
      ]
     },
     "metadata": {},
     "output_type": "display_data"
    },
    {
     "name": "stdout",
     "output_type": "stream",
     "text": [
      "\n",
      "하늘 양 살해교사 명재완, 범행 전 '초등학생 살인' 직접 검색[앵커]학교에서 초등학생을 살해한 교사 명재완 씨가 범행 직전 남편과 통화해 범행을 미리 예고했던 걸로 드러났습니다. '한 명만 걸리면 된다', '세 번의 기회...\n",
      "https://news.nate.com/view/20250409n06079?mid=n0400\n"
     ]
    },
    {
     "data": {
      "text/html": [
       "<img src=\"https://thumbnews.nateimg.co.kr/news90///news.nateimg.co.kr/orgImg/ae/2025/04/09/ae_1744160885130_707226_0.jpg\"/>"
      ],
      "text/plain": [
       "<IPython.core.display.Image object>"
      ]
     },
     "metadata": {},
     "output_type": "display_data"
    },
    {
     "name": "stdout",
     "output_type": "stream",
     "text": [
      "\n",
      "[단독]어린이보호구역서 묻지마 폭행…10대 불구속 송치서울 도심 한복판 어린이보호구역에서 처음 본 여성을 폭행한 10대가 검찰에 넘겨졌다.서울 광진경찰서는 상해 혐의로 10대 A군을 불구속 송치했다고 9일 밝혔다...\n",
      "https://news.nate.com/view/20250409n10994?mid=n0400\n"
     ]
    },
    {
     "data": {
      "text/html": [
       "<img src=\"https://thumbnews.nateimg.co.kr/news90///news.nateimg.co.kr/orgImg/ns/2025/04/09/NISI20250409_0001813189_web.jpg\"/>"
      ],
      "text/plain": [
       "<IPython.core.display.Image object>"
      ]
     },
     "metadata": {},
     "output_type": "display_data"
    },
    {
     "name": "stdout",
     "output_type": "stream",
     "text": [
      "\n",
      "아주대 의대 신입생 \"수강 신청 포기하고 수업 거부\"[수원=뉴시스] 아주대학교 의과대학 25학번 학생 일동 성명문. (사진=SNS 캡처) 2025.04.09. photo@newsis.com *재판매 및 DB 금지 [수원=뉴시스] 변근아 기자 =...\n",
      "https://news.nate.com/view/20250409n17062?mid=n0400\n"
     ]
    },
    {
     "data": {
      "text/html": [
       "<img src=\"https://thumbnews.nateimg.co.kr/news90///news.nateimg.co.kr/orgImg/cz/2025/04/09/cz_1744165566300_740481_0.jpg\"/>"
      ],
      "text/plain": [
       "<IPython.core.display.Image object>"
      ]
     },
     "metadata": {},
     "output_type": "display_data"
    },
    {
     "name": "stdout",
     "output_type": "stream",
     "text": [
      "\n",
      "[단독] 서울시 \"명일동 싱크홀 원인은 '터널공사'\"서울시가 강동구 명일동 싱크홀 사고와 관련해 지하안전정보시스템에 신고한 내용. /지하안전정보시스템서울시가 강동구 명일동 ‘싱크홀(땅 꺼짐)’ 사고의 발...\n",
      "https://news.nate.com/view/20250409n16258?mid=n0400\n",
      "======> https://news.nate.com/section?mid=n0500 세계 뉴스 <======\n"
     ]
    },
    {
     "data": {
      "text/html": [
       "<img src=\"https://thumbnews.nateimg.co.kr/news90///news.nateimg.co.kr/orgImg/ns/2025/04/09/NISI20250409_0001813052_web.gif\"/>"
      ],
      "text/plain": [
       "<IPython.core.display.Image object>"
      ]
     },
     "metadata": {},
     "output_type": "display_data"
    },
    {
     "name": "stdout",
     "output_type": "stream",
     "text": [
      "\n",
      "도미니카 나이트클럽 사고 79명 사망…사상자 계속 늘어(영상)[서울=뉴시스] 도미니카공화국 수도 산토도밍고 유명 나이트클럽 지붕이 무너져 주지사, 전 메이저리그 선수 등 최소 79명이 사망했다.(사진=데일리메일) *재판...\n",
      "https://news.nate.com/view/20250409n12991?mid=n0500\n"
     ]
    },
    {
     "data": {
      "text/html": [
       "<img src=\"https://thumbnews.nateimg.co.kr/news90///news.nateimg.co.kr/orgImg/yt/2025/04/09/PRU20250409168101009_P2.jpg\"/>"
      ],
      "text/plain": [
       "<IPython.core.display.Image object>"
      ]
     },
     "metadata": {},
     "output_type": "display_data"
    },
    {
     "name": "stdout",
     "output_type": "stream",
     "text": [
      "\n",
      "트럼프 \"이제 우리가 갈취할 차례…협상시까지 中에 104% 관세\"도쿄·서울 등 거론 \"美가 평화지켰으나 미국車 없다\"…\"의약품 관세 매우 금방 발표\" TSMC에 '최대 100% 관세 위협했다' 말하며 \"멍청한 반도체법 없이 투자유...\n",
      "https://news.nate.com/view/20250409n16157?mid=n0500\n"
     ]
    },
    {
     "data": {
      "text/html": [
       "<img src=\"https://thumbnews.nateimg.co.kr/news90///news.nateimg.co.kr/orgImg/yt/2025/04/09/PAP20250408048601009_P2.jpg\"/>"
      ],
      "text/plain": [
       "<IPython.core.display.Image object>"
      ]
     },
     "metadata": {},
     "output_type": "display_data"
    },
    {
     "name": "stdout",
     "output_type": "stream",
     "text": [
      "\n",
      "\"머스크, AI로 공무원 대화 감시…'트럼프 욕하나' 검열\"로이터 보도…\"공무원 대규모 해고에도 머스크 챗봇 그록 활용\" \"DOGE팀, '군 기밀 유출 논란' 채팅앱 시그널로 소통\"…보안 우려 (서울=연합뉴스) 임지우 기자 ...\n",
      "https://news.nate.com/view/20250409n06933?mid=n0500\n"
     ]
    },
    {
     "data": {
      "text/html": [
       "<img src=\"https://thumbnews.nateimg.co.kr/news90///news.nateimg.co.kr/orgImg/mk/2025/04/09/news-p.v1.20250409.624f73d1ee814e00b451b8d6fc34c7e2_P1.png\"/>"
      ],
      "text/plain": [
       "<IPython.core.display.Image object>"
      ]
     },
     "metadata": {},
     "output_type": "display_data"
    },
    {
     "name": "stdout",
     "output_type": "stream",
     "text": [
      "\n",
      "\"중국인이네? 미국서 당장 나가\"…일방적 추방 공포에 숨 못 쉬는 유학생들사소한 경범죄로도 취소돼비자 취소 되면 추방 대상“유학생 사이에 공포 퍼져” 최근 미국 대학에서 유학중인 외국인 학생들의 비자가 일방적으로 취소되는 일...\n",
      "https://news.nate.com/view/20250409n13110?mid=n0500\n"
     ]
    },
    {
     "data": {
      "text/html": [
       "<img src=\"https://thumbnews.nateimg.co.kr/news90///news.nateimg.co.kr/orgImg/yt/2025/04/09/AKR20250409048400073_01_i.jpg\"/>"
      ],
      "text/plain": [
       "<IPython.core.display.Image object>"
      ]
     },
     "metadata": {},
     "output_type": "display_data"
    },
    {
     "name": "stdout",
     "output_type": "stream",
     "text": [
      "\n",
      "일본서 백일해 급속 확산…작년 환자 수 넘어서(도쿄=연합뉴스) 경수현 특파원 = 면역력이 제대로 형성되지 않은 영유아에게 위험할 수도 있는 세균성 호흡기 질환인 백일해가 올해 들어 일본에서 유행하고 있...\n",
      "https://news.nate.com/view/20250409n09651?mid=n0500\n",
      "======> https://news.nate.com/section?mid=n0600 IT/과학 뉴스 <======\n"
     ]
    },
    {
     "data": {
      "text/html": [
       "<img src=\"https://thumbnews.nateimg.co.kr/news90///news.nateimg.co.kr/orgImg/ny/2025/04/09/AKR20250409093742488_01_i.jpg\"/>"
      ],
      "text/plain": [
       "<IPython.core.display.Image object>"
      ]
     },
     "metadata": {},
     "output_type": "display_data"
    },
    {
     "name": "stdout",
     "output_type": "stream",
     "text": [
      "\n",
      "\"캐릭터 얻어맞아 우울증\"…중국 게이머, 게임사 상대 소송중국의 한 게이머가 온라인 게임에서 자신의 캐릭터가 얻어 맞아 정신적 피해를 입었다며 게임 회사를 상대로 소송을 제기해 화제입니다. 현지시간 7일 홍콩 사...\n",
      "https://news.nate.com/view/20250409n09259?mid=n0600\n"
     ]
    },
    {
     "data": {
      "text/html": [
       "<img src=\"https://thumbnews.nateimg.co.kr/news90///news.nateimg.co.kr/orgImg/yt/2025/04/09/AKR20250408071000017_02_i.jpg\"/>"
      ],
      "text/plain": [
       "<IPython.core.display.Image object>"
      ]
     },
     "metadata": {},
     "output_type": "display_data"
    },
    {
     "name": "stdout",
     "output_type": "stream",
     "text": [
      "\n",
      "\"야간 근무자 심혈관질환 위험, 낮에만 식사하면 낮출 수 있어\"美 연구팀 \"식사 시간이 수면보다 더 큰 건강 위험 요소 가능성\" (서울=연합뉴스) 이주영 기자 = 심혈관 질환(CVD) 위험을 높이는 요인으로 꼽히는 야간 교대 근...\n",
      "https://news.nate.com/view/20250409n04317?mid=n0600\n"
     ]
    },
    {
     "data": {
      "text/html": [
       "<img src=\"https://thumbnews.nateimg.co.kr/news90///news.nateimg.co.kr/orgImg/mt/2025/04/09/mt_1744153865161_225287_0.jpg\"/>"
      ],
      "text/plain": [
       "<IPython.core.display.Image object>"
      ]
     },
     "metadata": {},
     "output_type": "display_data"
    },
    {
     "name": "stdout",
     "output_type": "stream",
     "text": [
      "\n",
      "\"아이폰 곧 300만원\" 미국서 패닉바잉…애플 시총 1150조 녹았다트럼프 '관세 역풍' 시총 2위로 추락 도널드 트럼프 미국 대통령의 관세 정책 불확실성이 이어지면서 애플이 8일(현지시간) 결국 시가총액 1위 자리를 마이크로...\n",
      "https://news.nate.com/view/20250409n04720?mid=n0600\n",
      "\n",
      "딥시크의 공습…미·중 AI 격차 확 줄었다1년 만에 대표모델 성능차 9.3% → 1.7% 한국은 투자 규모 9 → 11위로 뒷걸음 중국 인공지능(AI) 스타트업 딥시크의 AI 모델이 지난 1월 전 세계를 강타한 가운데 중국과 미국의 AI 기술 격차가 1년 만에 크게 좁혀...\n",
      "https://news.nate.com/view/20250409n02925?mid=n0600\n"
     ]
    },
    {
     "data": {
      "text/html": [
       "<img src=\"https://thumbnews.nateimg.co.kr/news90///news.nateimg.co.kr/orgImg/sv/2025/04/09/202059042_700.jpg\"/>"
      ],
      "text/plain": [
       "<IPython.core.display.Image object>"
      ]
     },
     "metadata": {},
     "output_type": "display_data"
    },
    {
     "name": "stdout",
     "output_type": "stream",
     "text": [
      "\n",
      "사람 태우고 산에서 말처럼 달린다…일본 네발로봇, 엑스포서 공개▲ 가와사키중공업 '클레오'\n",
      "\n",
      "마치 말처럼 달리는 네발 로봇이 오는 13일 개막하는 오사카·간사이 만국박람회(오사카 엑스포)에서 선보입니다.\n",
      "...\n",
      "https://news.nate.com/view/20250409n03053?mid=n0600\n"
     ]
    }
   ],
   "source": [
    "from urllib.parse import urljoin\n",
    "from IPython.display import Image, display\n",
    "import requests\n",
    "from bs4 import BeautifulSoup\n",
    "\n",
    "section_dict = {\n",
    "    '최신뉴스': 'n0100',\n",
    "    '정치': 'n0200',\n",
    "    '경제': 'n0300',\n",
    "    '사회': 'n0400',\n",
    "    '세계': 'n0500',\n",
    "    'IT/과학': 'n0600'\n",
    "}\n",
    "\n",
    "def print_nate_news(section_name):\n",
    "\n",
    "    mid = section_dict[section_name]\n",
    "    url = f\"https://news.nate.com/section?mid={mid}\"\n",
    "    print(f\"======> {url} {section_name} 뉴스 <======\")\n",
    "\n",
    "    headers = {\n",
    "        'user-agent': 'Mozilla/5.0 (Windows NT 10.0; Win64; x64) AppleWebKit/537.36 (KHTML, like Gecko) Chrome/135.0.0.0 Safari/537.36'\n",
    "    }\n",
    "\n",
    "    res = requests.get(url, headers=headers)\n",
    "    res.encoding = 'euc-kr' #nate는 utf-8이 아닌 euc-kr을 기본 인코딩으로 사용한다.\n",
    "\n",
    "    if res.ok:\n",
    "        soup = BeautifulSoup(res.text, 'html.parser')\n",
    "        a_tag_list = soup.select(\"div.mlt01 a\")[:5]  # 상위 5개만 출력\n",
    "\n",
    "        for a_tag in a_tag_list:\n",
    "            #이미지부터 출력\n",
    "            img_tag = a_tag.select_one('img') # 이미지 태그 추출\n",
    "            if img_tag and 'src' in img_tag.attrs:\n",
    "                img_src = img_tag['src']\n",
    "                img_url = urljoin(url, img_src)\n",
    "\n",
    "                # 이미지 출력 (저장 X)\n",
    "                try:\n",
    "                    display(Image(url=img_url))\n",
    "                except Exception as e:\n",
    "                    print(f\"이미지 출력 실패: {e}\")\n",
    "            print()\n",
    "\n",
    "\n",
    "            title = a_tag.get_text(strip=True)\n",
    "            link = a_tag['href']\n",
    "            if link.startswith('//'):\n",
    "                link = 'https:' + link\n",
    "            elif link.startswith('/'):\n",
    "                link = urljoin(url, link)\n",
    "            print(title)\n",
    "            print(link)\n",
    "\n",
    "    else:\n",
    "        print(f\"Error Code: {res.status_code}\")\n",
    "\n",
    "for section in section_dict:\n",
    "    print_nate_news(section)"
   ]
  }
 ],
 "metadata": {
  "kernelspec": {
   "display_name": "base",
   "language": "python",
   "name": "python3"
  },
  "language_info": {
   "codemirror_mode": {
    "name": "ipython",
    "version": 3
   },
   "file_extension": ".py",
   "mimetype": "text/x-python",
   "name": "python",
   "nbconvert_exporter": "python",
   "pygments_lexer": "ipython3",
   "version": "3.12.7"
  }
 },
 "nbformat": 4,
 "nbformat_minor": 5
}
