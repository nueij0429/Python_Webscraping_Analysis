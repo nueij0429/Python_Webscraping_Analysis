{
 "cells": [
  {
   "cell_type": "code",
   "execution_count": 1,
   "id": "e44a5954",
   "metadata": {},
   "outputs": [
    {
     "name": "stdout",
     "output_type": "stream",
     "text": [
      "Name: requests\n",
      "Version: 2.32.3\n",
      "Summary: Python HTTP for Humans.\n",
      "Home-page: https://requests.readthedocs.io\n",
      "Author: Kenneth Reitz\n",
      "Author-email: me@kennethreitz.org\n",
      "License: Apache-2.0\n",
      "Location: C:\\Users\\user\\anaconda3\\Lib\\site-packages\n",
      "Requires: certifi, charset-normalizer, idna, urllib3\n",
      "Required-by: anaconda-catalogs, anaconda-client, anaconda-cloud-auth, anaconda-project, conda, conda-build, conda-repo-cli, conda_package_streaming, cookiecutter, datashader, jupyterlab_server, panel, requests-file, requests-toolbelt, Sphinx, streamlit, tldextract\n"
     ]
    }
   ],
   "source": [
    "!pip show requests"
   ]
  },
  {
   "cell_type": "code",
   "execution_count": null,
   "id": "2bf10340",
   "metadata": {},
   "outputs": [
    {
     "name": "stdout",
     "output_type": "stream",
     "text": [
      "https://news.daum.net/economy\n",
      "<class 'requests.models.Response'>\n",
      "200\n",
      "<class 'bs4.element.ResultSet'> 9\n",
      "https://v.daum.net/v/20250408161553109\n",
      "트럼프발 주가폭락에 동아 \"경제적 핵전쟁\" 조선 \"금융위기 후 최악\" 7일 아시아 증시 대폭락 '블랙먼데이'… 아침신문 일제히 1면 장식 한국일보 \"한덕수 복귀하면 큰 변화 생길 것처럼 호들갑, 달라진 건 없다\" [미디어오늘 ] 도널드 트럼프 미국 대통령의 '관세 전쟁'으로 글로벌 증시가 7일 '대폭락'했다. 8일자 아침신문은 '초토화', '쑥대밭', '패닉' 등의 표현과 함께 이를 일제히 1면에 다뤘다. 동아일보는 “미 미디어오늘 10분 전\n",
      "https://v.daum.net/v/20250408160526681\n",
      "공황과 격변의 판도라 박스가 열리다 프레시안 20분 전\n",
      "https://v.daum.net/v/20250408154329660\n",
      "해외서 발 뺀 이중항체, 韓 기업들이 이끈다 조선비즈 42분 전\n",
      "https://v.daum.net/v/20250408153003030\n",
      "탄핵 끝났는데 韓경제 ‘봄’은 언제 오나…박근혜 때와 다른 이유 시사저널 55분 전\n",
      "https://v.daum.net/v/20250408152923007\n",
      "경상수지 흑자행진에도… 한은 “美 관세에 불확실성 확대” 조선비즈 56분 전\n",
      "https://v.daum.net/v/20250408144527816\n",
      "국제유가 하락에 흔들리는 정유업계…실적 먹구름 짙어진다 데일리안 2시간 전\n",
      "https://v.daum.net/v/20250408140753767\n",
      "조양호 한진그룹 선대회장 6주기… ‘45년 항공산업’ 리더십 재조명 동아일보 2시간 전\n",
      "https://v.daum.net/v/20250408140302580\n",
      "미국 최대 은행이 \"여성 경영인이 경제 원동력\"이라 말한 이유 오마이뉴스 2시간 전\n",
      "https://v.daum.net/v/20250408124446384\n",
      "불평등 부채질하는 재난: 환경부는 약자 비명 듣고 있나요? 더스쿠프 4시간 전\n"
     ]
    }
   ],
   "source": [
    "#질문: 아래의 url에서 뉴스기사의 링크와 제목을 출력하세요.\n",
    "# 다음 경제 뉴스 URL url = 'https://news.daum.net/economy'\n",
    "\n",
    "import requests\n",
    "from bs4 import BeautifulSoup\n",
    "\n",
    "# 경제 뉴스\n",
    "req_param = {\n",
    "    'sid': 'economy'\n",
    "}\n",
    "# \n",
    "url = 'https://news.daum.net/{sid}'.format(**req_param)\n",
    "print(url)\n",
    "\n",
    "#url2 ='https://news.daum.net/economy'\n",
    "\n",
    "# 요청 헤더 설정 : 브라우저 정보(사람처럼 보이게 하려고 설정함)\n",
    "req_header = {\n",
    "    'user-agent': 'Mozilla/5.0 (Windows NT 10.0; Win64; x64) AppleWebKit/537.36 (KHTML, like Gecko) Chrome/135.0.0.0 Safari/537.36'\n",
    "}\n",
    "\n",
    "# requests 의 get() 함수 호출하기 \n",
    "res = requests.get(url, headers=req_header)\n",
    "res.encoding = 'utf-8'\n",
    "print(type(res))\n",
    "print(res.status_code)\n",
    "\n",
    "# 응답(response)이 OK 이면\n",
    "if res.ok:\n",
    "    # 응답 (response)에서 text 추출 - source 보기\n",
    "    html = res.text\n",
    "    # print(html)\n",
    "    # BeautifulSoup 객체 생성  \n",
    "    soup = BeautifulSoup(html, 'html.parser')\n",
    "    # CSS 선택자\n",
    "    # print(soup.select(\"div.sa_text a[href*='mnews/article']\"))\n",
    "    a_tag_list = soup.select(\"a[href*='v.daum.net/v']\")\n",
    "    limited_list = a_tag_list[:9]\n",
    "    print(type(a_tag_list), len(limited_list))\n",
    "    #[<a href=\"http://\"\">뉴스제목</a>]: ResultSet 객체, <a></a>: tag 객체, 그리고 갯수 출력\n",
    "    for a_tag in a_tag_list[:9]:\n",
    "        title = a_tag.text.strip()\n",
    "        link = a_tag['href']\n",
    "        print(f\"{link}\\n{title}\")  #link와 title을 나눠서 출력 \n",
    "    # <a> 태그 리스트 순회하기    \n",
    "else:\n",
    "    # 응답(response)이 Error 이면 status code 출력    \n",
    "    print(f'Error Code: {res.status_code}')"
   ]
  }
 ],
 "metadata": {
  "kernelspec": {
   "display_name": "base",
   "language": "python",
   "name": "python3"
  },
  "language_info": {
   "codemirror_mode": {
    "name": "ipython",
    "version": 3
   },
   "file_extension": ".py",
   "mimetype": "text/x-python",
   "name": "python",
   "nbconvert_exporter": "python",
   "pygments_lexer": "ipython3",
   "version": "3.12.7"
  }
 },
 "nbformat": 4,
 "nbformat_minor": 5
}
