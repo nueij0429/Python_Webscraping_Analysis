{
 "cells": [
  {
   "cell_type": "code",
   "execution_count": 1,
   "id": "e44a5954",
   "metadata": {},
   "outputs": [
    {
     "name": "stdout",
     "output_type": "stream",
     "text": [
      "Name: requests\n",
      "Version: 2.32.3\n",
      "Summary: Python HTTP for Humans.\n",
      "Home-page: https://requests.readthedocs.io\n",
      "Author: Kenneth Reitz\n",
      "Author-email: me@kennethreitz.org\n",
      "License: Apache-2.0\n",
      "Location: C:\\Users\\user\\anaconda3\\Lib\\site-packages\n",
      "Requires: certifi, charset-normalizer, idna, urllib3\n",
      "Required-by: anaconda-catalogs, anaconda-client, anaconda-cloud-auth, anaconda-project, conda, conda-build, conda-repo-cli, conda_package_streaming, cookiecutter, datashader, jupyterlab_server, panel, requests-file, requests-toolbelt, Sphinx, streamlit, tldextract\n"
     ]
    }
   ],
   "source": [
    "!pip show requests"
   ]
  },
  {
   "cell_type": "markdown",
   "id": "0c466a5b",
   "metadata": {},
   "source": [
    "### 숙제 혼자 만든 코드"
   ]
  },
  {
   "cell_type": "code",
   "execution_count": 2,
   "id": "2bf10340",
   "metadata": {},
   "outputs": [
    {
     "name": "stdout",
     "output_type": "stream",
     "text": [
      "https://news.daum.net/economy\n",
      "<class 'requests.models.Response'>\n",
      "200\n",
      "<class 'bs4.element.ResultSet'> 9\n",
      "https://v.daum.net/v/20250409125903840\n",
      "천안시 '인구 변화 대응', 출생·양육~미래 산업 육성…인구 유입 정책 추진 천안시가 저출생·고령화로 인한 인구구조 변화에 대응하기 위해 생애주기 전반에 아우르는 지원 정책을 추진한다. 특히, 출생과 양육 인프라를 확대하고 스마트도시 조성, 국가 인공지능(AI) 컴퓨팅센터 유치 등 미래 산업 육성과 일자리 창출 확대를 통해 인구 유입을 유도해 정주인구를 늘리는 정책을 내놓았다. 천안시는 인구감소에 대응하고 아이 키우기 좋은 환경을 전자신문 9분 전\n",
      "https://v.daum.net/v/20250409122036180\n",
      "정부, 美에 LNG 수입·조선업 협력·알래스카 투자 제안…트럼프  “Great Call” 헤럴드경제 47분 전\n",
      "https://v.daum.net/v/20250409120018573\n",
      "그래도 꾸준한 프랜차이즈…재작년 매출액 소상공인 1.75배 연합뉴스 1시간 전\n",
      "https://v.daum.net/v/20250409120009533\n",
      "3월 은행 가계대출 1.4조↑ \"토허제發 주택거래 급증은 2분기 영향\" 아시아경제 1시간 전\n",
      "https://v.daum.net/v/20250409114312833\n",
      "高관세·高환율 쓰나미…희비 엇갈린 산업계 더팩트 1시간 전\n",
      "https://v.daum.net/v/20250409113001204\n",
      "美·日은 '죽은 원전'도 되살린 판에…한국은 2년간 뭐했나 [김리안의 에네르기파WAR] 한국경제 2시간 전\n",
      "https://v.daum.net/v/20250409112842145\n",
      "취업자 석달째 늘었지만 청년·건설 '고용한파'…관세조치에 더 암울(종합2보) 뉴시스 2시간 전\n",
      "https://v.daum.net/v/20250409111613474\n",
      "\"아이폰 곧 300만원\" 트럼프, 중국 잡으려다 시총 1위 애플 잡네 YTN 2시간 전\n",
      "https://v.daum.net/v/20250409111311272\n",
      "美조선 수주, 韓이 싹쓸이…K조선의 ‘지정학 반사이익’ 현실 [한양경제] 경기일보 2시간 전\n"
     ]
    }
   ],
   "source": [
    "#질문: 아래의 url에서 뉴스기사의 링크와 제목을 출력하세요.\n",
    "# 다음 경제 뉴스 URL url = 'https://news.daum.net/economy'\n",
    "\n",
    "import requests\n",
    "from bs4 import BeautifulSoup\n",
    "\n",
    "# 경제 뉴스\n",
    "req_param = {\n",
    "    'sid': 'economy'\n",
    "}\n",
    "# \n",
    "url = 'https://news.daum.net/{sid}'.format(**req_param)\n",
    "print(url)\n",
    "\n",
    "#url2 ='https://news.daum.net/economy'\n",
    "\n",
    "# 요청 헤더 설정 : 브라우저 정보(사람처럼 보이게 하려고 설정함)\n",
    "req_header = {\n",
    "    'user-agent': 'Mozilla/5.0 (Windows NT 10.0; Win64; x64) AppleWebKit/537.36 (KHTML, like Gecko) Chrome/135.0.0.0 Safari/537.36'\n",
    "}\n",
    "\n",
    "# requests 의 get() 함수 호출하기 \n",
    "res = requests.get(url, headers=req_header)\n",
    "res.encoding = 'utf-8'\n",
    "print(type(res))\n",
    "print(res.status_code)\n",
    "\n",
    "# 응답(response)이 OK 이면\n",
    "if res.ok:\n",
    "    # 응답 (response)에서 text 추출 - source 보기\n",
    "    html = res.text\n",
    "    # print(html)\n",
    "    # BeautifulSoup 객체 생성  \n",
    "    soup = BeautifulSoup(html, 'html.parser')\n",
    "    # CSS 선택자\n",
    "    # print(soup.select(\"div.sa_text a[href*='mnews/article']\"))\n",
    "    a_tag_list = soup.select(\"a[href*='v.daum.net/v']\")\n",
    "    limited_list = a_tag_list[:9]\n",
    "    print(type(a_tag_list), len(limited_list))\n",
    "    #[<a href=\"http://\"\">뉴스제목</a>]: ResultSet 객체, <a></a>: tag 객체, 그리고 갯수 출력\n",
    "    for a_tag in a_tag_list[:9]:\n",
    "        title = a_tag.text.strip()\n",
    "        link = a_tag['href']\n",
    "        print(f\"{link}\\n{title}\")  #link와 title을 나눠서 출력 \n",
    "    # <a> 태그 리스트 순회하기    \n",
    "else:\n",
    "    # 응답(response)이 Error 이면 status code 출력    \n",
    "    print(f'Error Code: {res.status_code}')"
   ]
  },
  {
   "cell_type": "code",
   "execution_count": 3,
   "id": "f49955f9",
   "metadata": {},
   "outputs": [
    {
     "name": "stdout",
     "output_type": "stream",
     "text": [
      "======> https://news.daum.net/economy 경제 뉴스 <======\n",
      "https://v.daum.net/v/20250409125903840\n",
      "천안시 '인구 변화 대응', 출생·양육~미래 산업 육성…인구 유입 정책 추진\n",
      "https://v.daum.net/v/20250409122036180\n",
      "정부, 美에 LNG 수입·조선업 협력·알래스카 투자 제안…트럼프  “Great Call”\n",
      "https://v.daum.net/v/20250409120018573\n",
      "그래도 꾸준한 프랜차이즈…재작년 매출액 소상공인 1.75배\n",
      "https://v.daum.net/v/20250409120009533\n",
      "3월 은행 가계대출 1.4조↑ \"토허제發 주택거래 급증은 2분기 영향\"\n",
      "https://v.daum.net/v/20250409114312833\n",
      "高관세·高환율 쓰나미…희비 엇갈린 산업계\n",
      "https://v.daum.net/v/20250409113001204\n",
      "美·日은 '죽은 원전'도 되살린 판에…한국은 2년간 뭐했나 [김리안의 에네르기파WAR]\n",
      "https://v.daum.net/v/20250409112842145\n",
      "취업자 석달째 늘었지만 청년·건설 '고용한파'…관세조치에 더 암울(종합2보)\n",
      "https://v.daum.net/v/20250409111613474\n",
      "\"아이폰 곧 300만원\" 트럼프, 중국 잡으려다 시총 1위 애플 잡네\n",
      "https://v.daum.net/v/20250409111311272\n",
      "美조선 수주, 韓이 싹쓸이…K조선의 ‘지정학 반사이익’ 현실 [한양경제]\n",
      "\n",
      "======> https://news.daum.net/people 인물 뉴스 <======\n",
      "https://v.daum.net/v/20250409113507497\n",
      "문형배 재판관을 키워낸 어른 김장하의 ‘베품’을 질투하다\n",
      "https://v.daum.net/v/20250409090923890\n",
      "“딸 두면 비행기 탄다더라”… 여행준비가 즐겁고 더 화기애애[사랑합니다]\n",
      "https://v.daum.net/v/20250409060010711\n",
      "[무늬가 있는 삶] 읽다가 길을 발견하다…개그맨 작가 고명환 | 전원생활\n",
      "https://v.daum.net/v/20250409002427134\n",
      "\"성공? 하버드 아닌 한국 식료품점서 답 찾았다\" [안혜리의 인생]\n",
      "https://v.daum.net/v/20250408175217633\n",
      "\"모든 보도는 본질적으로 탐사보도, 주변에 관심 가져야\"\n",
      "https://v.daum.net/v/20250408175038567\n",
      "기자·가수 겸업… 펜과 마이크로 방글라데시 삶 그리다\n",
      "https://v.daum.net/v/20250408173634060\n",
      "\"제자에 패한 뒤 무관 전락···부모상 같은 고통이었죠\"\n",
      "https://v.daum.net/v/20250408162102294\n",
      "대장장이가 제 직업입니다, 저는 그게 자랑스럽습니다\n",
      "https://v.daum.net/v/20250408092113275\n",
      "소쿠리를 소꼬리로 잘못 알아듣고… 몸보신 얘기에 웃음만발[사랑합니다]\n"
     ]
    }
   ],
   "source": [
    "#질문:  여러개의 section 중 하나를 선택해서 url에서 뉴스기사의 링크와 제목을 출력하는 코드를 함수로 작성하기\n",
    "# 경제 뉴스 URL url = 'https://news.daum.net/economy'\n",
    "# 사회 뉴스 URL url = 'https://news.daum.net/society'\n",
    "\n",
    "import requests\n",
    "from bs4 import BeautifulSoup\n",
    "\n",
    "section_dict = {\n",
    "    '기후/환경': 'climate',\n",
    "    '사회': 'society',\n",
    "    '경제': 'economy',\n",
    "    '정치': 'politics',\n",
    "    '국제': 'world',\n",
    "    '문화': 'culture',\n",
    "    '생활': 'life',\n",
    "    'IT/과학': 'tech',\n",
    "    '인물': 'people'\n",
    "}\n",
    "\n",
    "def print_news(section_name):\n",
    "\n",
    "    section_eng = section_dict[section_name]\n",
    "    url = f\"https://news.daum.net/{section_eng}\"\n",
    "    print(f\"======> {url} {section_name} 뉴스 <======\")\n",
    "\n",
    "    headers = {\n",
    "        'user-agent': 'Mozilla/5.0 (Windows NT 10.0; Win64; x64) AppleWebKit/537.36 (KHTML, like Gecko) Chrome/135.0.0.0 Safari/537.36'\n",
    "    }\n",
    "\n",
    "    res = requests.get(url, headers=headers)\n",
    "    res.encoding = 'utf-8'\n",
    "\n",
    "    if res.ok:\n",
    "        soup = BeautifulSoup(res.text, 'html.parser')\n",
    "        a_tag_list = soup.select(\"a[href*='v.daum.net/v']\")\n",
    "        printed = 0\n",
    "\n",
    "        for a_tag in a_tag_list:\n",
    "            if printed >= 9:\n",
    "                break\n",
    "\n",
    "            title_tag = a_tag.select_one(\"strong.tit_txt\")\n",
    "            if title_tag:\n",
    "                title = title_tag.get_text(strip=True)\n",
    "                link = a_tag['href']\n",
    "                print(link)\n",
    "                print(title)\n",
    "                printed += 1\n",
    "    else:\n",
    "        print(f\"Error Code: {res.status_code}\")\n",
    "\n",
    "print_news('경제')\n",
    "print()\n",
    "print_news('인물')"
   ]
  },
  {
   "cell_type": "code",
   "execution_count": 4,
   "id": "5cad6dc7",
   "metadata": {},
   "outputs": [
    {
     "name": "stdout",
     "output_type": "stream",
     "text": [
      "======> https://news.nate.com/section?mid=n0100 최신뉴스 뉴스 <======\n",
      "https://news.nate.com/view/20250409n19005?mid=n0200\n",
      "이완규 \"국힘 당적 보유한 적 없다, 정치활동 한 적 없어\"헌법재판관 후보자로 지명된 이완규 법제처장이 9일 오전 서울 여의도 국회에서 열린 제424회 국회(임시회) 법제사법위원회 제1차 전체회의에서 잠시 이석하고 ...\n",
      "\n",
      "https://news.nate.com/view/20250409n16925?mid=n0200\n",
      "李 대선출마 공식화…\"위대한 대한민국 향한 길 국민과 걷겠다\"(종합)대표직 사퇴…마지막 최고위서 \"국민이 역경 이겨낼 것, 저도 함께하겠다\" \"韓대행, 주가지수 얼마인지도 모를 것…꼼수 몰두 말고 국민 삶에 관심을\" (서울=연...\n",
      "\n",
      "https://news.nate.com/view/20250409n18227?mid=n0200\n",
      "'한덕수, 대통령몫 재판관 지명 불가' 법안, 野주도 법사위 통과[the300](상보)소급효 적용해 한덕수에게 적용 가능케 정청래 국회 법제사법위원회 위원장이 9일 오전 서울 여의도 국회에서 열린 제424회 국회(임시회) 법사위 ...\n",
      "\n",
      "https://news.nate.com/view/20250409n18751?mid=n0200\n",
      "우의장, 대선·개헌 동시투표론 사흘만 철회…\"대선 후 논의\"(종합)\"향후 각 정당 의견 수렴…대선주자들, 개헌 골자 공약 제시해달라\" 민주당 내부 '내각제 개헌' 비판에 \"합리적 토론 봉쇄하는 선동\" 반박 (서울=연합뉴스) 설승...\n",
      "\n",
      "https://news.nate.com/view/20250409n18638?mid=n0200\n",
      "국민의힘, 다음 달 3일 대선 후보 선출대선 경선 후보등록 이달 14∼15일 여론조사 불공정 시비 차단…'명태균 방지 조항' 도입키로 (서울=연합뉴스) 류미나 조다운 기자 = 국민의힘은 다음 달 3일 전...\n",
      "\n",
      "======> https://news.nate.com/section?mid=n0200 정치 뉴스 <======\n",
      "https://news.nate.com/view/20250409n19005?mid=n0200\n",
      "이완규 \"국힘 당적 보유한 적 없다, 정치활동 한 적 없어\"헌법재판관 후보자로 지명된 이완규 법제처장이 9일 오전 서울 여의도 국회에서 열린 제424회 국회(임시회) 법제사법위원회 제1차 전체회의에서 잠시 이석하고 ...\n",
      "\n",
      "https://news.nate.com/view/20250409n16925?mid=n0200\n",
      "李 대선출마 공식화…\"위대한 대한민국 향한 길 국민과 걷겠다\"(종합)대표직 사퇴…마지막 최고위서 \"국민이 역경 이겨낼 것, 저도 함께하겠다\" \"韓대행, 주가지수 얼마인지도 모를 것…꼼수 몰두 말고 국민 삶에 관심을\" (서울=연...\n",
      "\n",
      "https://news.nate.com/view/20250409n18227?mid=n0200\n",
      "'한덕수, 대통령몫 재판관 지명 불가' 법안, 野주도 법사위 통과[the300](상보)소급효 적용해 한덕수에게 적용 가능케 정청래 국회 법제사법위원회 위원장이 9일 오전 서울 여의도 국회에서 열린 제424회 국회(임시회) 법사위 ...\n",
      "\n",
      "https://news.nate.com/view/20250409n18751?mid=n0200\n",
      "우의장, 대선·개헌 동시투표론 사흘만 철회…\"대선 후 논의\"(종합)\"향후 각 정당 의견 수렴…대선주자들, 개헌 골자 공약 제시해달라\" 민주당 내부 '내각제 개헌' 비판에 \"합리적 토론 봉쇄하는 선동\" 반박 (서울=연합뉴스) 설승...\n",
      "\n",
      "https://news.nate.com/view/20250409n18638?mid=n0200\n",
      "국민의힘, 다음 달 3일 대선 후보 선출대선 경선 후보등록 이달 14∼15일 여론조사 불공정 시비 차단…'명태균 방지 조항' 도입키로 (서울=연합뉴스) 류미나 조다운 기자 = 국민의힘은 다음 달 3일 전...\n",
      "\n",
      "======> https://news.nate.com/section?mid=n0300 경제 뉴스 <======\n",
      "https://news.nate.com/view/20250409n17615?mid=n0300\n",
      "\"과일로 간신히 연명합니다\"…원화값 폭락에 유학생들 '멘붕'계엄·관세정책 여파 불확실성 증대달러당 원화값 16년만 최저 수준고환율 직격탄 맞은 미국 유학생들일부 유학생들 휴학하거나 귀국도엔화당 원화값도 3년만 가...\n",
      "\n",
      "https://news.nate.com/view/20250409n02718?mid=n0300\n",
      "\"우리는 못 받는거 아냐?\" 시한부 국민연금…이것 도입땐 16년 수명연장안상훈 의원, 보건복지부 추계 공개국민연금에 자동조정장치 도입 시기금 고갈 2072년으로 16년 연장이미 OECD 38개국중 24개국 도입도입 논의할 22대 연금특위 ...\n",
      "\n",
      "https://news.nate.com/view/20250409n18135?mid=n0300\n",
      "금융당국 \"이달 가계대출 분수령…토허제 풍선효과 면밀 점검\"\"금융권 월별·분기별 경영 목표에 맞춰 가계대출 관리 필요\" 은행권 가계대출 증가 상황에 따라 필요시 자율 관리 강화 (서울=연합뉴스) 이율 기자 = 금융당국...\n",
      "\n",
      "https://news.nate.com/view/20250409n14367?mid=n0300\n",
      "R 공포 더 커졌다…JP모건 \"소형주 지수 기준 美침체 확률 79%\"투자 등급 채권 기준 경기침체 가능성 0→25% 서머스 전 재무 \"침체로 가는중…실업자 200만명↑\" '닥터 둠' 루비니는 \"올해 미국 경제, 침체 피할 것\" 1분기 기...\n",
      "\n",
      "https://news.nate.com/view/20250409n12981?mid=n0300\n",
      "\"입금 먼저\"vs\"못 믿겠다\"…홈플러스, 이번엔 입점업체와 기싸움서울시내 한 홈플러스 매장 [연합] [헤럴드경제=신현주 기자] 홈플러스가 납품업체에 이어 입점업체(테넌트)와도 정산금 지급을 두고 갈등을 빚고 있다. 입점업...\n",
      "\n",
      "======> https://news.nate.com/section?mid=n0400 사회 뉴스 <======\n",
      "https://news.nate.com/view/20250409n02868?mid=n0400\n",
      "못 키운다며 떠난 주인…굶어 죽게 된 반려견 21마리의 비극동물보호법 위반 40대 남성, 1심서 징역형 집행유예 (서울=연합뉴스) 김준태 기자 = 반려견이 21마리까지 불어나 감당하기 어려운 처지가 되자 이들을 집에 놔두...\n",
      "\n",
      "https://news.nate.com/view/20250409n06079?mid=n0400\n",
      "하늘 양 살해교사 명재완, 범행 전 '초등학생 살인' 직접 검색[앵커]학교에서 초등학생을 살해한 교사 명재완 씨가 범행 직전 남편과 통화해 범행을 미리 예고했던 걸로 드러났습니다. '한 명만 걸리면 된다', '세 번의 기회...\n",
      "\n",
      "https://news.nate.com/view/20250409n10994?mid=n0400\n",
      "[단독]어린이보호구역서 묻지마 폭행…10대 불구속 송치서울 도심 한복판 어린이보호구역에서 처음 본 여성을 폭행한 10대가 검찰에 넘겨졌다.서울 광진경찰서는 상해 혐의로 10대 A군을 불구속 송치했다고 9일 밝혔다...\n",
      "\n",
      "https://news.nate.com/view/20250409n17062?mid=n0400\n",
      "아주대 의대 신입생 \"수강 신청 포기하고 수업 거부\"[수원=뉴시스] 아주대학교 의과대학 25학번 학생 일동 성명문. (사진=SNS 캡처) 2025.04.09. photo@newsis.com *재판매 및 DB 금지 [수원=뉴시스] 변근아 기자 =...\n",
      "\n",
      "https://news.nate.com/view/20250409n16258?mid=n0400\n",
      "[단독] 서울시 \"명일동 싱크홀 원인은 '터널공사'\"서울시가 강동구 명일동 싱크홀 사고와 관련해 지하안전정보시스템에 신고한 내용. /지하안전정보시스템서울시가 강동구 명일동 ‘싱크홀(땅 꺼짐)’ 사고의 발...\n",
      "\n",
      "======> https://news.nate.com/section?mid=n0500 세계 뉴스 <======\n",
      "https://news.nate.com/view/20250409n12991?mid=n0500\n",
      "도미니카 나이트클럽 사고 79명 사망…사상자 계속 늘어(영상)[서울=뉴시스] 도미니카공화국 수도 산토도밍고 유명 나이트클럽 지붕이 무너져 주지사, 전 메이저리그 선수 등 최소 79명이 사망했다.(사진=데일리메일) *재판...\n",
      "\n",
      "https://news.nate.com/view/20250409n16157?mid=n0500\n",
      "트럼프 \"이제 우리가 갈취할 차례…협상시까지 中에 104% 관세\"도쿄·서울 등 거론 \"美가 평화지켰으나 미국車 없다\"…\"의약품 관세 매우 금방 발표\" TSMC에 '최대 100% 관세 위협했다' 말하며 \"멍청한 반도체법 없이 투자유...\n",
      "\n",
      "https://news.nate.com/view/20250409n06933?mid=n0500\n",
      "\"머스크, AI로 공무원 대화 감시…'트럼프 욕하나' 검열\"로이터 보도…\"공무원 대규모 해고에도 머스크 챗봇 그록 활용\" \"DOGE팀, '군 기밀 유출 논란' 채팅앱 시그널로 소통\"…보안 우려 (서울=연합뉴스) 임지우 기자 ...\n",
      "\n",
      "https://news.nate.com/view/20250409n13110?mid=n0500\n",
      "\"중국인이네? 미국서 당장 나가\"…일방적 추방 공포에 숨 못 쉬는 유학생들사소한 경범죄로도 취소돼비자 취소 되면 추방 대상“유학생 사이에 공포 퍼져” 최근 미국 대학에서 유학중인 외국인 학생들의 비자가 일방적으로 취소되는 일...\n",
      "\n",
      "https://news.nate.com/view/20250409n09651?mid=n0500\n",
      "일본서 백일해 급속 확산…작년 환자 수 넘어서(도쿄=연합뉴스) 경수현 특파원 = 면역력이 제대로 형성되지 않은 영유아에게 위험할 수도 있는 세균성 호흡기 질환인 백일해가 올해 들어 일본에서 유행하고 있...\n",
      "\n",
      "======> https://news.nate.com/section?mid=n0600 IT/과학 뉴스 <======\n",
      "https://news.nate.com/view/20250409n09259?mid=n0600\n",
      "\"캐릭터 얻어맞아 우울증\"…중국 게이머, 게임사 상대 소송중국의 한 게이머가 온라인 게임에서 자신의 캐릭터가 얻어 맞아 정신적 피해를 입었다며 게임 회사를 상대로 소송을 제기해 화제입니다. 현지시간 7일 홍콩 사...\n",
      "\n",
      "https://news.nate.com/view/20250409n04317?mid=n0600\n",
      "\"야간 근무자 심혈관질환 위험, 낮에만 식사하면 낮출 수 있어\"美 연구팀 \"식사 시간이 수면보다 더 큰 건강 위험 요소 가능성\" (서울=연합뉴스) 이주영 기자 = 심혈관 질환(CVD) 위험을 높이는 요인으로 꼽히는 야간 교대 근...\n",
      "\n",
      "https://news.nate.com/view/20250409n04720?mid=n0600\n",
      "\"아이폰 곧 300만원\" 미국서 패닉바잉…애플 시총 1150조 녹았다트럼프 '관세 역풍' 시총 2위로 추락 도널드 트럼프 미국 대통령의 관세 정책 불확실성이 이어지면서 애플이 8일(현지시간) 결국 시가총액 1위 자리를 마이크로...\n",
      "\n",
      "https://news.nate.com/view/20250409n02925?mid=n0600\n",
      "딥시크의 공습…미·중 AI 격차 확 줄었다1년 만에 대표모델 성능차 9.3% → 1.7% 한국은 투자 규모 9 → 11위로 뒷걸음 중국 인공지능(AI) 스타트업 딥시크의 AI 모델이 지난 1월 전 세계를 강타한 가운데 중국과 미국의 AI 기술 격차가 1년 만에 크게 좁혀...\n",
      "\n",
      "https://news.nate.com/view/20250409n03053?mid=n0600\n",
      "사람 태우고 산에서 말처럼 달린다…일본 네발로봇, 엑스포서 공개▲ 가와사키중공업 '클레오'\n",
      "\n",
      "마치 말처럼 달리는 네발 로봇이 오는 13일 개막하는 오사카·간사이 만국박람회(오사카 엑스포)에서 선보입니다.\n",
      "...\n",
      "\n"
     ]
    }
   ],
   "source": [
    "#Nate 뉴스기사 제목 스크래핑하기 (선택) https://news.nate.com/recent?mid=n0100\n",
    "#최신뉴스, 정치 , 경제, 사회, 세계, IT/과학 \n",
    "#6개의 섹션의 뉴스를 출력하는 함수를 생성하여 스크래핑 하기\n",
    "\n",
    "import requests\n",
    "from bs4 import BeautifulSoup\n",
    "\n",
    "section_dict = {\n",
    "    '최신뉴스': 'n0100',\n",
    "    '정치': 'n0200',\n",
    "    '경제': 'n0300',\n",
    "    '사회': 'n0400',\n",
    "    '세계': 'n0500',\n",
    "    'IT/과학': 'n0600'\n",
    "}\n",
    "\n",
    "def print_nate_news(section_name):\n",
    "\n",
    "    mid = section_dict[section_name]\n",
    "    url = f\"https://news.nate.com/section?mid={mid}\"\n",
    "    print(f\"======> {url} {section_name} 뉴스 <======\")\n",
    "\n",
    "    headers = {\n",
    "        'user-agent': 'Mozilla/5.0 (Windows NT 10.0; Win64; x64) AppleWebKit/537.36 (KHTML, like Gecko) Chrome/135.0.0.0 Safari/537.36'\n",
    "    }\n",
    "\n",
    "    res = requests.get(url, headers=headers)\n",
    "    res.encoding = 'euc-kr' #nate는 utf-8이 아닌 euc-kr을 기본 인코딩으로 사용한다.\n",
    "\n",
    "    if res.ok:\n",
    "        soup = BeautifulSoup(res.text, 'html.parser')\n",
    "        a_tag_list = soup.select(\"div.mlt01 a\")[:5]  # 상위 5개만 출력\n",
    "\n",
    "        for a_tag in a_tag_list:\n",
    "            title = a_tag.get_text(strip=True)\n",
    "            link = a_tag['href']\n",
    "            if link.startswith('//'):\n",
    "                link = 'https:' + link\n",
    "            print(link)\n",
    "            print(title)\n",
    "            print()\n",
    "    else:\n",
    "        print(f\"Error Code: {res.status_code}\")\n",
    "\n",
    "for section in section_dict:\n",
    "    print_nate_news(section)"
   ]
  },
  {
   "cell_type": "markdown",
   "id": "8a37ede1",
   "metadata": {},
   "source": [
    "### 강사님 코드로 지난 숙제 검토하기!"
   ]
  },
  {
   "cell_type": "code",
   "execution_count": 5,
   "id": "ec864c1e",
   "metadata": {},
   "outputs": [
    {
     "name": "stdout",
     "output_type": "stream",
     "text": [
      "https://news.daum.net/economy\n",
      "<class 'requests.models.Response'>\n",
      "200\n",
      "<class 'bs4.element.ResultSet'> 9\n",
      "https://v.daum.net/v/20250409125903840\n",
      "천안시 '인구 변화 대응', 출생·양육~미래 산업 육성…인구 유입 정책 추진\n",
      "https://v.daum.net/v/20250409122036180\n",
      "정부, 美에 LNG 수입·조선업 협력·알래스카 투자 제안…트럼프  “Great Call”\n",
      "https://v.daum.net/v/20250409120018573\n",
      "그래도 꾸준한 프랜차이즈…재작년 매출액 소상공인 1.75배\n",
      "https://v.daum.net/v/20250409120009533\n",
      "3월 은행 가계대출 1.4조↑ \"토허제發 주택거래 급증은 2분기 영향\"\n",
      "https://v.daum.net/v/20250409114312833\n",
      "高관세·高환율 쓰나미…희비 엇갈린 산업계\n",
      "https://v.daum.net/v/20250409113001204\n",
      "美·日은 '죽은 원전'도 되살린 판에…한국은 2년간 뭐했나 [김리안의 에네르기파WAR]\n",
      "https://v.daum.net/v/20250409112842145\n",
      "취업자 석달째 늘었지만 청년·건설 '고용한파'…관세조치에 더 암울(종합2보)\n",
      "https://v.daum.net/v/20250409111613474\n",
      "\"아이폰 곧 300만원\" 트럼프, 중국 잡으려다 시총 1위 애플 잡네\n",
      "https://v.daum.net/v/20250409111311272\n",
      "美조선 수주, 韓이 싹쓸이…K조선의 ‘지정학 반사이익’ 현실 [한양경제]\n"
     ]
    }
   ],
   "source": [
    "#Daum 뉴스제목 가져오기\n",
    "import requests\n",
    "from bs4 import BeautifulSoup\n",
    "\n",
    "# 다음 경제 뉴스 URL\n",
    "url = 'https://news.daum.net/economy'\n",
    "\n",
    "print(url)\n",
    "\n",
    "# 요청 헤더\n",
    "req_header = {\n",
    "    'user-agent': 'Mozilla/5.0 (Windows NT 10.0; Win64; x64) AppleWebKit/537.36 (KHTML, like Gecko) Chrome/104.0.0.0 Safari/537.36'\n",
    "}\n",
    "\n",
    "res = requests.get(url, headers=req_header)\n",
    "print(type(res))\n",
    "print(res.status_code)\n",
    "\n",
    "# 정상 응답 여부 확인\n",
    "if res.ok:\n",
    "    res.encoding = 'utf-8' \n",
    "    html = res.text\n",
    "    soup = BeautifulSoup(html, 'html.parser')\n",
    "    \n",
    "    # 기사 제목과 링크 추출\n",
    "    #[<li></li>, <li></li>]\n",
    "    li_tag_list = soup.select('ul.list_newsheadline2 li') #strong 태그가 속한 li 태그를 가져와야 한다!\n",
    "\n",
    "    print(type(li_tag_list), len(li_tag_list))\n",
    "\n",
    "    for li_tag in li_tag_list:        \n",
    "        a_tag = li_tag.find('a')\n",
    "        print(a_tag['href'])\n",
    "        \n",
    "\n",
    "        #select() => ResultSet, select_one() => Tag\n",
    "        strong_tag = li_tag.select_one('div.cont_thumb strong.tit_txt')\n",
    "        #select_one()이 안 될 때 select를 사용해서 if 문으로 변수명[0]으로 가져오면 된다.\n",
    "        #strong_tags = li_tag.select('div.cont_thumb strong.tit_txt')\n",
    "           #if strong_tags:\n",
    "               #strong_tag = strong_tags[0]\n",
    "        title = strong_tag.text.strip()\n",
    "        print(title)\n",
    "\n",
    "\n",
    "else:\n",
    "    print(f'에러코드 = {res.status_code}')"
   ]
  },
  {
   "cell_type": "code",
   "execution_count": 6,
   "id": "709439c5",
   "metadata": {},
   "outputs": [
    {
     "data": {
      "text/plain": [
       "{'기후/환경': 'climate',\n",
       " '사회': 'society',\n",
       " '경제': 'economy',\n",
       " '정치': 'politics',\n",
       " '국제': 'world',\n",
       " '문화': 'culture',\n",
       " '생활': 'life',\n",
       " 'IT/과학': 'tech',\n",
       " '인물': 'people'}"
      ]
     },
     "execution_count": 6,
     "metadata": {},
     "output_type": "execute_result"
    }
   ],
   "source": [
    "section_dict = {'기후/환경':'climate','사회':'society','경제':'economy','정치':'politics',\\\n",
    "                '국제':'world','문화':'culture','생활':'life','IT/과학':'tech','인물':'people'}\n",
    "section_dict"
   ]
  },
  {
   "cell_type": "code",
   "execution_count": 8,
   "id": "a7edd09b",
   "metadata": {},
   "outputs": [],
   "source": [
    "#Daum 뉴스제목 함수로 선언하여 처리하기\n",
    "import requests\n",
    "from bs4 import BeautifulSoup\n",
    "\n",
    "def print_news(section_name):    \n",
    "    #section = section_dict[section_name]\n",
    "    section = section_dict.get(section_name)\n",
    "    #section이 없을 경우 if문 추가! else 문 안에 나머지 코드를 넣었기 때문에 None일 경우 처리되지 않음.\n",
    "    if section is None:\n",
    "        print('요청하신 Key가 존재하지 않습니다.')\n",
    "    else:\n",
    "\n",
    "        # 요청 Parameter\n",
    "        req_param = {\n",
    "            'section': section\n",
    "        }\n",
    "        url = 'https://news.daum.net/{section}'.format(**req_param)\n",
    "        \n",
    "        print(f'======> {url} {section_name} 뉴스 <======')\n",
    "        \n",
    "        # 요청 헤더 설정 : 브라우저 정보\n",
    "        req_header = {\n",
    "            'user-agent': 'Mozilla/5.0 (Windows NT 10.0; Win64; x64) AppleWebKit/537.36 (KHTML, like Gecko) Chrome/104.0.0.0 Safari/537.36'\n",
    "        }\n",
    "\n",
    "        res = requests.get(url, headers=req_header)   \n",
    "\n",
    "        if res.ok:\n",
    "            res.encoding = 'utf-8' \n",
    "            html = res.text\n",
    "            soup = BeautifulSoup(html, 'html.parser')\n",
    "            \n",
    "            # 기사 제목과 링크 추출\n",
    "            #[<li></li>, <li></li>]\n",
    "            li_tag_list = soup.select('ul.list_newsheadline2 li')\n",
    "\n",
    "            #print(type(li_tag_list), len(li_tag_list))\n",
    "\n",
    "            for li_tag in li_tag_list:        \n",
    "                a_tag = li_tag.find('a')\n",
    "                print(a_tag['href'])\n",
    "                \n",
    "                strong_tag = li_tag.select_one('div.cont_thumb strong.tit_txt')\n",
    "\n",
    "                title = strong_tag.text.strip()\n",
    "                print(title)\n",
    "\n",
    "\n",
    "        else:\n",
    "            print(f'에러코드 = {res.status_code}')"
   ]
  },
  {
   "cell_type": "code",
   "execution_count": 9,
   "id": "145878d8",
   "metadata": {},
   "outputs": [
    {
     "name": "stdout",
     "output_type": "stream",
     "text": [
      "======> https://news.daum.net/economy 경제 뉴스 <======\n",
      "https://v.daum.net/v/20250409125903840\n",
      "천안시 '인구 변화 대응', 출생·양육~미래 산업 육성…인구 유입 정책 추진\n",
      "https://v.daum.net/v/20250409122036180\n",
      "정부, 美에 LNG 수입·조선업 협력·알래스카 투자 제안…트럼프  “Great Call”\n",
      "https://v.daum.net/v/20250409120018573\n",
      "그래도 꾸준한 프랜차이즈…재작년 매출액 소상공인 1.75배\n",
      "https://v.daum.net/v/20250409120009533\n",
      "3월 은행 가계대출 1.4조↑ \"토허제發 주택거래 급증은 2분기 영향\"\n",
      "https://v.daum.net/v/20250409114312833\n",
      "高관세·高환율 쓰나미…희비 엇갈린 산업계\n",
      "https://v.daum.net/v/20250409113001204\n",
      "美·日은 '죽은 원전'도 되살린 판에…한국은 2년간 뭐했나 [김리안의 에네르기파WAR]\n",
      "https://v.daum.net/v/20250409112842145\n",
      "취업자 석달째 늘었지만 청년·건설 '고용한파'…관세조치에 더 암울(종합2보)\n",
      "https://v.daum.net/v/20250409111613474\n",
      "\"아이폰 곧 300만원\" 트럼프, 중국 잡으려다 시총 1위 애플 잡네\n",
      "https://v.daum.net/v/20250409111311272\n",
      "美조선 수주, 韓이 싹쓸이…K조선의 ‘지정학 반사이익’ 현실 [한양경제]\n"
     ]
    }
   ],
   "source": [
    "print_news('경제')"
   ]
  },
  {
   "cell_type": "code",
   "execution_count": 10,
   "id": "e37edad6",
   "metadata": {},
   "outputs": [
    {
     "name": "stdout",
     "output_type": "stream",
     "text": [
      "요청하신 Key가 존재하지 않습니다.\n"
     ]
    }
   ],
   "source": [
    "print_news('경제2')"
   ]
  },
  {
   "cell_type": "markdown",
   "id": "805d2904",
   "metadata": {},
   "source": [
    "### Nate 뉴스기사 제목 스크래핑하기(이미지 추가한 코드)"
   ]
  },
  {
   "cell_type": "code",
   "execution_count": 11,
   "id": "e738a156",
   "metadata": {},
   "outputs": [
    {
     "name": "stdout",
     "output_type": "stream",
     "text": [
      "======> https://news.nate.com/section?mid=n0100 최신뉴스 뉴스 <======\n"
     ]
    },
    {
     "data": {
      "text/html": [
       "<img src=\"https://thumbnews.nateimg.co.kr/news90///news.nateimg.co.kr/orgImg/na/2025/04/09/7225927_high.jpg\"/>"
      ],
      "text/plain": [
       "<IPython.core.display.Image object>"
      ]
     },
     "metadata": {},
     "output_type": "display_data"
    },
    {
     "name": "stdout",
     "output_type": "stream",
     "text": [
      "\n",
      "이완규 \"국힘 당적 보유한 적 없다, 정치활동 한 적 없어\"헌법재판관 후보자로 지명된 이완규 법제처장이 9일 오전 서울 여의도 국회에서 열린 제424회 국회(임시회) 법제사법위원회 제1차 전체회의에서 잠시 이석하고 ...\n",
      "https://news.nate.com/view/20250409n19005?mid=n0200\n"
     ]
    },
    {
     "data": {
      "text/html": [
       "<img src=\"https://thumbnews.nateimg.co.kr/news90///news.nateimg.co.kr/orgImg/yt/2025/04/09/PYH2025040906160001300_P2.jpg\"/>"
      ],
      "text/plain": [
       "<IPython.core.display.Image object>"
      ]
     },
     "metadata": {},
     "output_type": "display_data"
    },
    {
     "name": "stdout",
     "output_type": "stream",
     "text": [
      "\n",
      "李 대선출마 공식화…\"위대한 대한민국 향한 길 국민과 걷겠다\"(종합)대표직 사퇴…마지막 최고위서 \"국민이 역경 이겨낼 것, 저도 함께하겠다\" \"韓대행, 주가지수 얼마인지도 모를 것…꼼수 몰두 말고 국민 삶에 관심을\" (서울=연...\n",
      "https://news.nate.com/view/20250409n16925?mid=n0200\n"
     ]
    },
    {
     "data": {
      "text/html": [
       "<img src=\"https://thumbnews.nateimg.co.kr/news90///news.nateimg.co.kr/orgImg/mt/2025/04/09/mt_1744167845266_12692_0.jpg\"/>"
      ],
      "text/plain": [
       "<IPython.core.display.Image object>"
      ]
     },
     "metadata": {},
     "output_type": "display_data"
    },
    {
     "name": "stdout",
     "output_type": "stream",
     "text": [
      "\n",
      "'한덕수, 대통령몫 재판관 지명 불가' 법안, 野주도 법사위 통과[the300](상보)소급효 적용해 한덕수에게 적용 가능케 정청래 국회 법제사법위원회 위원장이 9일 오전 서울 여의도 국회에서 열린 제424회 국회(임시회) 법사위 ...\n",
      "https://news.nate.com/view/20250409n18227?mid=n0200\n"
     ]
    },
    {
     "data": {
      "text/html": [
       "<img src=\"https://thumbnews.nateimg.co.kr/news90///news.nateimg.co.kr/orgImg/yt/2025/04/09/PYH2025040802310001300_P2.jpg\"/>"
      ],
      "text/plain": [
       "<IPython.core.display.Image object>"
      ]
     },
     "metadata": {},
     "output_type": "display_data"
    },
    {
     "name": "stdout",
     "output_type": "stream",
     "text": [
      "\n",
      "우의장, 대선·개헌 동시투표론 사흘만 철회…\"대선 후 논의\"(종합)\"향후 각 정당 의견 수렴…대선주자들, 개헌 골자 공약 제시해달라\" 민주당 내부 '내각제 개헌' 비판에 \"합리적 토론 봉쇄하는 선동\" 반박 (서울=연합뉴스) 설승...\n",
      "https://news.nate.com/view/20250409n18751?mid=n0200\n"
     ]
    },
    {
     "data": {
      "text/html": [
       "<img src=\"https://thumbnews.nateimg.co.kr/news90///news.nateimg.co.kr/orgImg/yt/2025/04/09/PYH2025040710190001300_P2.jpg\"/>"
      ],
      "text/plain": [
       "<IPython.core.display.Image object>"
      ]
     },
     "metadata": {},
     "output_type": "display_data"
    },
    {
     "name": "stdout",
     "output_type": "stream",
     "text": [
      "\n",
      "국민의힘, 다음 달 3일 대선 후보 선출대선 경선 후보등록 이달 14∼15일 여론조사 불공정 시비 차단…'명태균 방지 조항' 도입키로 (서울=연합뉴스) 류미나 조다운 기자 = 국민의힘은 다음 달 3일 전...\n",
      "https://news.nate.com/view/20250409n18638?mid=n0200\n",
      "======> https://news.nate.com/section?mid=n0200 정치 뉴스 <======\n"
     ]
    },
    {
     "data": {
      "text/html": [
       "<img src=\"https://thumbnews.nateimg.co.kr/news90///news.nateimg.co.kr/orgImg/na/2025/04/09/7225927_high.jpg\"/>"
      ],
      "text/plain": [
       "<IPython.core.display.Image object>"
      ]
     },
     "metadata": {},
     "output_type": "display_data"
    },
    {
     "name": "stdout",
     "output_type": "stream",
     "text": [
      "\n",
      "이완규 \"국힘 당적 보유한 적 없다, 정치활동 한 적 없어\"헌법재판관 후보자로 지명된 이완규 법제처장이 9일 오전 서울 여의도 국회에서 열린 제424회 국회(임시회) 법제사법위원회 제1차 전체회의에서 잠시 이석하고 ...\n",
      "https://news.nate.com/view/20250409n19005?mid=n0200\n"
     ]
    },
    {
     "data": {
      "text/html": [
       "<img src=\"https://thumbnews.nateimg.co.kr/news90///news.nateimg.co.kr/orgImg/yt/2025/04/09/PYH2025040906160001300_P2.jpg\"/>"
      ],
      "text/plain": [
       "<IPython.core.display.Image object>"
      ]
     },
     "metadata": {},
     "output_type": "display_data"
    },
    {
     "name": "stdout",
     "output_type": "stream",
     "text": [
      "\n",
      "李 대선출마 공식화…\"위대한 대한민국 향한 길 국민과 걷겠다\"(종합)대표직 사퇴…마지막 최고위서 \"국민이 역경 이겨낼 것, 저도 함께하겠다\" \"韓대행, 주가지수 얼마인지도 모를 것…꼼수 몰두 말고 국민 삶에 관심을\" (서울=연...\n",
      "https://news.nate.com/view/20250409n16925?mid=n0200\n"
     ]
    },
    {
     "data": {
      "text/html": [
       "<img src=\"https://thumbnews.nateimg.co.kr/news90///news.nateimg.co.kr/orgImg/mt/2025/04/09/mt_1744167845266_12692_0.jpg\"/>"
      ],
      "text/plain": [
       "<IPython.core.display.Image object>"
      ]
     },
     "metadata": {},
     "output_type": "display_data"
    },
    {
     "name": "stdout",
     "output_type": "stream",
     "text": [
      "\n",
      "'한덕수, 대통령몫 재판관 지명 불가' 법안, 野주도 법사위 통과[the300](상보)소급효 적용해 한덕수에게 적용 가능케 정청래 국회 법제사법위원회 위원장이 9일 오전 서울 여의도 국회에서 열린 제424회 국회(임시회) 법사위 ...\n",
      "https://news.nate.com/view/20250409n18227?mid=n0200\n"
     ]
    },
    {
     "data": {
      "text/html": [
       "<img src=\"https://thumbnews.nateimg.co.kr/news90///news.nateimg.co.kr/orgImg/yt/2025/04/09/PYH2025040802310001300_P2.jpg\"/>"
      ],
      "text/plain": [
       "<IPython.core.display.Image object>"
      ]
     },
     "metadata": {},
     "output_type": "display_data"
    },
    {
     "name": "stdout",
     "output_type": "stream",
     "text": [
      "\n",
      "우의장, 대선·개헌 동시투표론 사흘만 철회…\"대선 후 논의\"(종합)\"향후 각 정당 의견 수렴…대선주자들, 개헌 골자 공약 제시해달라\" 민주당 내부 '내각제 개헌' 비판에 \"합리적 토론 봉쇄하는 선동\" 반박 (서울=연합뉴스) 설승...\n",
      "https://news.nate.com/view/20250409n18751?mid=n0200\n"
     ]
    },
    {
     "data": {
      "text/html": [
       "<img src=\"https://thumbnews.nateimg.co.kr/news90///news.nateimg.co.kr/orgImg/yt/2025/04/09/PYH2025040710190001300_P2.jpg\"/>"
      ],
      "text/plain": [
       "<IPython.core.display.Image object>"
      ]
     },
     "metadata": {},
     "output_type": "display_data"
    },
    {
     "name": "stdout",
     "output_type": "stream",
     "text": [
      "\n",
      "국민의힘, 다음 달 3일 대선 후보 선출대선 경선 후보등록 이달 14∼15일 여론조사 불공정 시비 차단…'명태균 방지 조항' 도입키로 (서울=연합뉴스) 류미나 조다운 기자 = 국민의힘은 다음 달 3일 전...\n",
      "https://news.nate.com/view/20250409n18638?mid=n0200\n",
      "======> https://news.nate.com/section?mid=n0300 경제 뉴스 <======\n"
     ]
    },
    {
     "data": {
      "text/html": [
       "<img src=\"https://thumbnews.nateimg.co.kr/news90///news.nateimg.co.kr/orgImg/mk/2025/04/09/news-p.v1.20250409.7ac01213edf4429bb74677e7f6765737_P1.jpg\"/>"
      ],
      "text/plain": [
       "<IPython.core.display.Image object>"
      ]
     },
     "metadata": {},
     "output_type": "display_data"
    },
    {
     "name": "stdout",
     "output_type": "stream",
     "text": [
      "\n",
      "\"과일로 간신히 연명합니다\"…원화값 폭락에 유학생들 '멘붕'계엄·관세정책 여파 불확실성 증대달러당 원화값 16년만 최저 수준고환율 직격탄 맞은 미국 유학생들일부 유학생들 휴학하거나 귀국도엔화당 원화값도 3년만 가...\n",
      "https://news.nate.com/view/20250409n17615?mid=n0300\n"
     ]
    },
    {
     "data": {
      "text/html": [
       "<img src=\"https://thumbnews.nateimg.co.kr/news90///news.nateimg.co.kr/orgImg/mk/2025/04/09/news-p.v1.20250408.96d46605438f4fef92e2397fb613309b_P1.png\"/>"
      ],
      "text/plain": [
       "<IPython.core.display.Image object>"
      ]
     },
     "metadata": {},
     "output_type": "display_data"
    },
    {
     "name": "stdout",
     "output_type": "stream",
     "text": [
      "\n",
      "\"우리는 못 받는거 아냐?\" 시한부 국민연금…이것 도입땐 16년 수명연장안상훈 의원, 보건복지부 추계 공개국민연금에 자동조정장치 도입 시기금 고갈 2072년으로 16년 연장이미 OECD 38개국중 24개국 도입도입 논의할 22대 연금특위 ...\n",
      "https://news.nate.com/view/20250409n02718?mid=n0300\n"
     ]
    },
    {
     "data": {
      "text/html": [
       "<img src=\"https://thumbnews.nateimg.co.kr/news90///news.nateimg.co.kr/orgImg/yt/2025/04/09/PCM20240315000186990_P2.jpg\"/>"
      ],
      "text/plain": [
       "<IPython.core.display.Image object>"
      ]
     },
     "metadata": {},
     "output_type": "display_data"
    },
    {
     "name": "stdout",
     "output_type": "stream",
     "text": [
      "\n",
      "[속보] 코스피 장중 2,300선 붕괴…코스닥도 650 하회(끝) [이 시각 많이 본 기사]☞ 성폭행 후 7년 만에 잡힌 여고 행정공무원…집행유예로 석방☞ 尹파면 축하했다 '별점테러' 당한 치킨집에 응원 맞대응☞ 네팔 ...\n",
      "https://news.nate.com/view/20250409n19683?mid=n0300\n"
     ]
    },
    {
     "data": {
      "text/html": [
       "<img src=\"https://thumbnews.nateimg.co.kr/news90///news.nateimg.co.kr/orgImg/yt/2025/04/09/PYH2025010713940001300_P2.jpg\"/>"
      ],
      "text/plain": [
       "<IPython.core.display.Image object>"
      ]
     },
     "metadata": {},
     "output_type": "display_data"
    },
    {
     "name": "stdout",
     "output_type": "stream",
     "text": [
      "\n",
      "금융당국 \"이달 가계대출 분수령…토허제 풍선효과 면밀 점검\"\"금융권 월별·분기별 경영 목표에 맞춰 가계대출 관리 필요\" 은행권 가계대출 증가 상황에 따라 필요시 자율 관리 강화 (서울=연합뉴스) 이율 기자 = 금융당국...\n",
      "https://news.nate.com/view/20250409n18135?mid=n0300\n"
     ]
    },
    {
     "data": {
      "text/html": [
       "<img src=\"https://thumbnews.nateimg.co.kr/news90///news.nateimg.co.kr/orgImg/yt/2025/04/09/AKR20250409057000009_03_i.jpg\"/>"
      ],
      "text/plain": [
       "<IPython.core.display.Image object>"
      ]
     },
     "metadata": {},
     "output_type": "display_data"
    },
    {
     "name": "stdout",
     "output_type": "stream",
     "text": [
      "\n",
      "R 공포 더 커졌다…JP모건 \"소형주 지수 기준 美침체 확률 79%\"투자 등급 채권 기준 경기침체 가능성 0→25% 서머스 전 재무 \"침체로 가는중…실업자 200만명↑\" '닥터 둠' 루비니는 \"올해 미국 경제, 침체 피할 것\" 1분기 기...\n",
      "https://news.nate.com/view/20250409n14367?mid=n0300\n",
      "======> https://news.nate.com/section?mid=n0400 사회 뉴스 <======\n"
     ]
    },
    {
     "data": {
      "text/html": [
       "<img src=\"https://thumbnews.nateimg.co.kr/news90///news.nateimg.co.kr/orgImg/yt/2025/04/09/AKR20250408165500004_01_i.jpg\"/>"
      ],
      "text/plain": [
       "<IPython.core.display.Image object>"
      ]
     },
     "metadata": {},
     "output_type": "display_data"
    },
    {
     "name": "stdout",
     "output_type": "stream",
     "text": [
      "\n",
      "못 키운다며 떠난 주인…굶어 죽게 된 반려견 21마리의 비극동물보호법 위반 40대 남성, 1심서 징역형 집행유예 (서울=연합뉴스) 김준태 기자 = 반려견이 21마리까지 불어나 감당하기 어려운 처지가 되자 이들을 집에 놔두...\n",
      "https://news.nate.com/view/20250409n02868?mid=n0400\n"
     ]
    },
    {
     "data": {
      "text/html": [
       "<img src=\"https://thumbnews.nateimg.co.kr/news90///news.nateimg.co.kr/orgImg/jt/2025/04/09/20250409075543260001.png\"/>"
      ],
      "text/plain": [
       "<IPython.core.display.Image object>"
      ]
     },
     "metadata": {},
     "output_type": "display_data"
    },
    {
     "name": "stdout",
     "output_type": "stream",
     "text": [
      "\n",
      "하늘 양 살해교사 명재완, 범행 전 '초등학생 살인' 직접 검색[앵커]학교에서 초등학생을 살해한 교사 명재완 씨가 범행 직전 남편과 통화해 범행을 미리 예고했던 걸로 드러났습니다. '한 명만 걸리면 된다', '세 번의 기회...\n",
      "https://news.nate.com/view/20250409n06079?mid=n0400\n"
     ]
    },
    {
     "data": {
      "text/html": [
       "<img src=\"https://thumbnews.nateimg.co.kr/news90///news.nateimg.co.kr/orgImg/ae/2025/04/09/ae_1744160885130_707226_0.jpg\"/>"
      ],
      "text/plain": [
       "<IPython.core.display.Image object>"
      ]
     },
     "metadata": {},
     "output_type": "display_data"
    },
    {
     "name": "stdout",
     "output_type": "stream",
     "text": [
      "\n",
      "[단독]어린이보호구역서 묻지마 폭행…10대 불구속 송치서울 도심 한복판 어린이보호구역에서 처음 본 여성을 폭행한 10대가 검찰에 넘겨졌다.서울 광진경찰서는 상해 혐의로 10대 A군을 불구속 송치했다고 9일 밝혔다...\n",
      "https://news.nate.com/view/20250409n10994?mid=n0400\n"
     ]
    },
    {
     "data": {
      "text/html": [
       "<img src=\"https://thumbnews.nateimg.co.kr/news90///news.nateimg.co.kr/orgImg/ns/2025/04/09/NISI20250409_0001813189_web.jpg\"/>"
      ],
      "text/plain": [
       "<IPython.core.display.Image object>"
      ]
     },
     "metadata": {},
     "output_type": "display_data"
    },
    {
     "name": "stdout",
     "output_type": "stream",
     "text": [
      "\n",
      "아주대 의대 신입생 \"수강 신청 포기하고 수업 거부\"[수원=뉴시스] 아주대학교 의과대학 25학번 학생 일동 성명문. (사진=SNS 캡처) 2025.04.09. photo@newsis.com *재판매 및 DB 금지 [수원=뉴시스] 변근아 기자 =...\n",
      "https://news.nate.com/view/20250409n17062?mid=n0400\n"
     ]
    },
    {
     "data": {
      "text/html": [
       "<img src=\"https://thumbnews.nateimg.co.kr/news90///news.nateimg.co.kr/orgImg/cz/2025/04/09/cz_1744165566300_740481_0.jpg\"/>"
      ],
      "text/plain": [
       "<IPython.core.display.Image object>"
      ]
     },
     "metadata": {},
     "output_type": "display_data"
    },
    {
     "name": "stdout",
     "output_type": "stream",
     "text": [
      "\n",
      "[단독] 서울시 \"명일동 싱크홀 원인은 '터널공사'\"서울시가 강동구 명일동 싱크홀 사고와 관련해 지하안전정보시스템에 신고한 내용. /지하안전정보시스템서울시가 강동구 명일동 ‘싱크홀(땅 꺼짐)’ 사고의 발...\n",
      "https://news.nate.com/view/20250409n16258?mid=n0400\n",
      "======> https://news.nate.com/section?mid=n0500 세계 뉴스 <======\n"
     ]
    },
    {
     "data": {
      "text/html": [
       "<img src=\"https://thumbnews.nateimg.co.kr/news90///news.nateimg.co.kr/orgImg/ns/2025/04/09/NISI20250409_0001813052_web.gif\"/>"
      ],
      "text/plain": [
       "<IPython.core.display.Image object>"
      ]
     },
     "metadata": {},
     "output_type": "display_data"
    },
    {
     "name": "stdout",
     "output_type": "stream",
     "text": [
      "\n",
      "도미니카 나이트클럽 사고 79명 사망…사상자 계속 늘어(영상)[서울=뉴시스] 도미니카공화국 수도 산토도밍고 유명 나이트클럽 지붕이 무너져 주지사, 전 메이저리그 선수 등 최소 79명이 사망했다.(사진=데일리메일) *재판...\n",
      "https://news.nate.com/view/20250409n12991?mid=n0500\n"
     ]
    },
    {
     "data": {
      "text/html": [
       "<img src=\"https://thumbnews.nateimg.co.kr/news90///news.nateimg.co.kr/orgImg/yt/2025/04/09/PRU20250409168101009_P2.jpg\"/>"
      ],
      "text/plain": [
       "<IPython.core.display.Image object>"
      ]
     },
     "metadata": {},
     "output_type": "display_data"
    },
    {
     "name": "stdout",
     "output_type": "stream",
     "text": [
      "\n",
      "트럼프 \"이제 우리가 갈취할 차례…협상시까지 中에 104% 관세\"도쿄·서울 등 거론 \"美가 평화지켰으나 미국車 없다\"…\"의약품 관세 매우 금방 발표\" TSMC에 '최대 100% 관세 위협했다' 말하며 \"멍청한 반도체법 없이 투자유...\n",
      "https://news.nate.com/view/20250409n16157?mid=n0500\n"
     ]
    },
    {
     "data": {
      "text/html": [
       "<img src=\"https://thumbnews.nateimg.co.kr/news90///news.nateimg.co.kr/orgImg/yt/2025/04/09/PAP20250408048601009_P2.jpg\"/>"
      ],
      "text/plain": [
       "<IPython.core.display.Image object>"
      ]
     },
     "metadata": {},
     "output_type": "display_data"
    },
    {
     "name": "stdout",
     "output_type": "stream",
     "text": [
      "\n",
      "\"머스크, AI로 공무원 대화 감시…'트럼프 욕하나' 검열\"로이터 보도…\"공무원 대규모 해고에도 머스크 챗봇 그록 활용\" \"DOGE팀, '군 기밀 유출 논란' 채팅앱 시그널로 소통\"…보안 우려 (서울=연합뉴스) 임지우 기자 ...\n",
      "https://news.nate.com/view/20250409n06933?mid=n0500\n"
     ]
    },
    {
     "data": {
      "text/html": [
       "<img src=\"https://thumbnews.nateimg.co.kr/news90///news.nateimg.co.kr/orgImg/mk/2025/04/09/news-p.v1.20250409.624f73d1ee814e00b451b8d6fc34c7e2_P1.png\"/>"
      ],
      "text/plain": [
       "<IPython.core.display.Image object>"
      ]
     },
     "metadata": {},
     "output_type": "display_data"
    },
    {
     "name": "stdout",
     "output_type": "stream",
     "text": [
      "\n",
      "\"중국인이네? 미국서 당장 나가\"…일방적 추방 공포에 숨 못 쉬는 유학생들사소한 경범죄로도 취소돼비자 취소 되면 추방 대상“유학생 사이에 공포 퍼져” 최근 미국 대학에서 유학중인 외국인 학생들의 비자가 일방적으로 취소되는 일...\n",
      "https://news.nate.com/view/20250409n13110?mid=n0500\n"
     ]
    },
    {
     "data": {
      "text/html": [
       "<img src=\"https://thumbnews.nateimg.co.kr/news90///news.nateimg.co.kr/orgImg/yt/2025/04/09/AKR20250409048400073_01_i.jpg\"/>"
      ],
      "text/plain": [
       "<IPython.core.display.Image object>"
      ]
     },
     "metadata": {},
     "output_type": "display_data"
    },
    {
     "name": "stdout",
     "output_type": "stream",
     "text": [
      "\n",
      "일본서 백일해 급속 확산…작년 환자 수 넘어서(도쿄=연합뉴스) 경수현 특파원 = 면역력이 제대로 형성되지 않은 영유아에게 위험할 수도 있는 세균성 호흡기 질환인 백일해가 올해 들어 일본에서 유행하고 있...\n",
      "https://news.nate.com/view/20250409n09651?mid=n0500\n",
      "======> https://news.nate.com/section?mid=n0600 IT/과학 뉴스 <======\n"
     ]
    },
    {
     "data": {
      "text/html": [
       "<img src=\"https://thumbnews.nateimg.co.kr/news90///news.nateimg.co.kr/orgImg/ny/2025/04/09/AKR20250409093742488_01_i.jpg\"/>"
      ],
      "text/plain": [
       "<IPython.core.display.Image object>"
      ]
     },
     "metadata": {},
     "output_type": "display_data"
    },
    {
     "name": "stdout",
     "output_type": "stream",
     "text": [
      "\n",
      "\"캐릭터 얻어맞아 우울증\"…중국 게이머, 게임사 상대 소송중국의 한 게이머가 온라인 게임에서 자신의 캐릭터가 얻어 맞아 정신적 피해를 입었다며 게임 회사를 상대로 소송을 제기해 화제입니다. 현지시간 7일 홍콩 사...\n",
      "https://news.nate.com/view/20250409n09259?mid=n0600\n"
     ]
    },
    {
     "data": {
      "text/html": [
       "<img src=\"https://thumbnews.nateimg.co.kr/news90///news.nateimg.co.kr/orgImg/yt/2025/04/09/AKR20250408071000017_02_i.jpg\"/>"
      ],
      "text/plain": [
       "<IPython.core.display.Image object>"
      ]
     },
     "metadata": {},
     "output_type": "display_data"
    },
    {
     "name": "stdout",
     "output_type": "stream",
     "text": [
      "\n",
      "\"야간 근무자 심혈관질환 위험, 낮에만 식사하면 낮출 수 있어\"美 연구팀 \"식사 시간이 수면보다 더 큰 건강 위험 요소 가능성\" (서울=연합뉴스) 이주영 기자 = 심혈관 질환(CVD) 위험을 높이는 요인으로 꼽히는 야간 교대 근...\n",
      "https://news.nate.com/view/20250409n04317?mid=n0600\n"
     ]
    },
    {
     "data": {
      "text/html": [
       "<img src=\"https://thumbnews.nateimg.co.kr/news90///news.nateimg.co.kr/orgImg/mt/2025/04/09/mt_1744153865161_225287_0.jpg\"/>"
      ],
      "text/plain": [
       "<IPython.core.display.Image object>"
      ]
     },
     "metadata": {},
     "output_type": "display_data"
    },
    {
     "name": "stdout",
     "output_type": "stream",
     "text": [
      "\n",
      "\"아이폰 곧 300만원\" 미국서 패닉바잉…애플 시총 1150조 녹았다트럼프 '관세 역풍' 시총 2위로 추락 도널드 트럼프 미국 대통령의 관세 정책 불확실성이 이어지면서 애플이 8일(현지시간) 결국 시가총액 1위 자리를 마이크로...\n",
      "https://news.nate.com/view/20250409n04720?mid=n0600\n",
      "\n",
      "딥시크의 공습…미·중 AI 격차 확 줄었다1년 만에 대표모델 성능차 9.3% → 1.7% 한국은 투자 규모 9 → 11위로 뒷걸음 중국 인공지능(AI) 스타트업 딥시크의 AI 모델이 지난 1월 전 세계를 강타한 가운데 중국과 미국의 AI 기술 격차가 1년 만에 크게 좁혀...\n",
      "https://news.nate.com/view/20250409n02925?mid=n0600\n"
     ]
    },
    {
     "data": {
      "text/html": [
       "<img src=\"https://thumbnews.nateimg.co.kr/news90///news.nateimg.co.kr/orgImg/sv/2025/04/09/202059042_700.jpg\"/>"
      ],
      "text/plain": [
       "<IPython.core.display.Image object>"
      ]
     },
     "metadata": {},
     "output_type": "display_data"
    },
    {
     "name": "stdout",
     "output_type": "stream",
     "text": [
      "\n",
      "사람 태우고 산에서 말처럼 달린다…일본 네발로봇, 엑스포서 공개▲ 가와사키중공업 '클레오'\n",
      "\n",
      "마치 말처럼 달리는 네발 로봇이 오는 13일 개막하는 오사카·간사이 만국박람회(오사카 엑스포)에서 선보입니다.\n",
      "...\n",
      "https://news.nate.com/view/20250409n03053?mid=n0600\n"
     ]
    }
   ],
   "source": [
    "from urllib.parse import urljoin\n",
    "from IPython.display import Image, display\n",
    "import requests\n",
    "from bs4 import BeautifulSoup\n",
    "\n",
    "section_dict = {\n",
    "    '최신뉴스': 'n0100',\n",
    "    '정치': 'n0200',\n",
    "    '경제': 'n0300',\n",
    "    '사회': 'n0400',\n",
    "    '세계': 'n0500',\n",
    "    'IT/과학': 'n0600'\n",
    "}\n",
    "\n",
    "def print_nate_news(section_name):\n",
    "\n",
    "    mid = section_dict[section_name]\n",
    "    url = f\"https://news.nate.com/section?mid={mid}\"\n",
    "    print(f\"======> {url} {section_name} 뉴스 <======\")\n",
    "\n",
    "    headers = {\n",
    "        'user-agent': 'Mozilla/5.0 (Windows NT 10.0; Win64; x64) AppleWebKit/537.36 (KHTML, like Gecko) Chrome/135.0.0.0 Safari/537.36'\n",
    "    }\n",
    "\n",
    "    res = requests.get(url, headers=headers)\n",
    "    res.encoding = 'euc-kr' #nate는 utf-8이 아닌 euc-kr을 기본 인코딩으로 사용한다.\n",
    "\n",
    "    if res.ok:\n",
    "        soup = BeautifulSoup(res.text, 'html.parser')\n",
    "        a_tag_list = soup.select(\"div.mlt01 a\")[:5]  # 상위 5개만 출력\n",
    "\n",
    "        for a_tag in a_tag_list:\n",
    "            #이미지부터 출력\n",
    "            img_tag = a_tag.select_one('img') # 이미지 태그 추출\n",
    "            if img_tag and 'src' in img_tag.attrs:\n",
    "                img_src = img_tag['src']\n",
    "                img_url = urljoin(url, img_src)\n",
    "\n",
    "                # 이미지 출력 (저장 X)\n",
    "                try:\n",
    "                    display(Image(url=img_url))\n",
    "                except Exception as e:\n",
    "                    print(f\"이미지 출력 실패: {e}\")\n",
    "            print()\n",
    "\n",
    "\n",
    "            title = a_tag.get_text(strip=True)\n",
    "            link = a_tag['href']\n",
    "            if link.startswith('//'):\n",
    "                link = 'https:' + link\n",
    "            elif link.startswith('/'):\n",
    "                link = urljoin(url, link)\n",
    "            print(title)\n",
    "            print(link)\n",
    "\n",
    "    else:\n",
    "        print(f\"Error Code: {res.status_code}\")\n",
    "\n",
    "for section in section_dict:\n",
    "    print_nate_news(section)"
   ]
  },
  {
   "cell_type": "markdown",
   "id": "1f510c92",
   "metadata": {},
   "source": [
    "### 하나의 네이버 웹툰과 1개의 회차에 대한 Image 다운로드 하기"
   ]
  },
  {
   "cell_type": "code",
   "execution_count": 12,
   "id": "2c551c29",
   "metadata": {},
   "outputs": [],
   "source": [
    "import requests\n",
    "from bs4 import BeautifulSoup\n",
    "import os\n",
    "\n",
    "def download_one_episode(title, no, url):\n",
    "    # referer 헤더 지정 (네이버 웹툰은 referer 필요)\n",
    "    req_header = {\n",
    "        'referer': url\n",
    "    }\n",
    "\n",
    "    res = requests.get(url)\n",
    "    if res.ok:\n",
    "        soup = BeautifulSoup(res.text, 'html.parser')\n",
    "\n",
    "        # img[src*='IMAG01'] 조건으로 이미지 태그 추출\n",
    "        img_tags = soup.select(\"img[src*='IMAG01']\")\n",
    "        img_url_list = [img_tag['src'] for img_tag in img_tags]\n",
    "\n",
    "        print(f'총 {len(img_url_list)}개의 이미지가 검색되었습니다.')\n",
    "\n",
    "        # 저장 디렉토리 생성: img/제목/회차번호\n",
    "        imgdir_name = os.path.join('img', title, str(no))\n",
    "        os.makedirs(imgdir_name, exist_ok=True)\n",
    "\n",
    "        # 이미지 다운로드 및 저장\n",
    "        for img_url in img_url_list:\n",
    "            res = requests.get(img_url, headers=req_header)\n",
    "            if res.ok:\n",
    "                img_data = res.content\n",
    "                file_name = os.path.basename(img_url)\n",
    "                file_path = os.path.join(imgdir_name, file_name)\n",
    "\n",
    "                with open(file_path, 'wb') as file:\n",
    "                    print(f'Writing to {file_path} ({len(img_data):,} bytes)')\n",
    "                    file.write(img_data)\n",
    "            else:\n",
    "                print(f'이미지 요청 실패: {img_url} (HTTP {res.status_code})')\n",
    "    else:\n",
    "        print(f'페이지 요청 실패: {url} (HTTP {res.status_code})')"
   ]
  },
  {
   "cell_type": "code",
   "execution_count": 13,
   "id": "8f869291",
   "metadata": {},
   "outputs": [
    {
     "name": "stdout",
     "output_type": "stream",
     "text": [
      "총 23개의 이미지가 검색되었습니다.\n",
      "Writing to img\\낢이사는이야기\\48\\20250310103947_792197c569e377c7f369fe9d6f2bd961_IMAG01_1.jpg (166,289 bytes)\n",
      "Writing to img\\낢이사는이야기\\48\\20250310103947_792197c569e377c7f369fe9d6f2bd961_IMAG01_2.jpg (117,581 bytes)\n",
      "Writing to img\\낢이사는이야기\\48\\20250310103947_792197c569e377c7f369fe9d6f2bd961_IMAG01_3.jpg (175,647 bytes)\n",
      "Writing to img\\낢이사는이야기\\48\\20250310103947_792197c569e377c7f369fe9d6f2bd961_IMAG01_4.jpg (140,295 bytes)\n",
      "Writing to img\\낢이사는이야기\\48\\20250310103947_792197c569e377c7f369fe9d6f2bd961_IMAG01_5.jpg (115,277 bytes)\n",
      "Writing to img\\낢이사는이야기\\48\\20250310103947_792197c569e377c7f369fe9d6f2bd961_IMAG01_6.jpg (86,840 bytes)\n",
      "Writing to img\\낢이사는이야기\\48\\20250310103947_792197c569e377c7f369fe9d6f2bd961_IMAG01_7.jpg (151,280 bytes)\n",
      "Writing to img\\낢이사는이야기\\48\\20250310103947_792197c569e377c7f369fe9d6f2bd961_IMAG01_8.jpg (146,198 bytes)\n",
      "Writing to img\\낢이사는이야기\\48\\20250310103947_792197c569e377c7f369fe9d6f2bd961_IMAG01_9.jpg (86,460 bytes)\n",
      "Writing to img\\낢이사는이야기\\48\\20250310103947_792197c569e377c7f369fe9d6f2bd961_IMAG01_10.jpg (152,631 bytes)\n",
      "Writing to img\\낢이사는이야기\\48\\20250310103947_792197c569e377c7f369fe9d6f2bd961_IMAG01_11.jpg (236,174 bytes)\n",
      "Writing to img\\낢이사는이야기\\48\\20250310103947_792197c569e377c7f369fe9d6f2bd961_IMAG01_12.jpg (218,403 bytes)\n",
      "Writing to img\\낢이사는이야기\\48\\20250310103947_792197c569e377c7f369fe9d6f2bd961_IMAG01_13.jpg (126,874 bytes)\n",
      "Writing to img\\낢이사는이야기\\48\\20250310103947_792197c569e377c7f369fe9d6f2bd961_IMAG01_14.jpg (169,822 bytes)\n",
      "Writing to img\\낢이사는이야기\\48\\20250310103947_792197c569e377c7f369fe9d6f2bd961_IMAG01_15.jpg (100,097 bytes)\n",
      "Writing to img\\낢이사는이야기\\48\\20250310103947_792197c569e377c7f369fe9d6f2bd961_IMAG01_16.jpg (138,348 bytes)\n",
      "Writing to img\\낢이사는이야기\\48\\20250310103947_792197c569e377c7f369fe9d6f2bd961_IMAG01_17.jpg (136,580 bytes)\n",
      "Writing to img\\낢이사는이야기\\48\\20250310103947_792197c569e377c7f369fe9d6f2bd961_IMAG01_18.jpg (127,154 bytes)\n",
      "Writing to img\\낢이사는이야기\\48\\20250310103947_792197c569e377c7f369fe9d6f2bd961_IMAG01_19.jpg (155,183 bytes)\n",
      "Writing to img\\낢이사는이야기\\48\\20250310103947_792197c569e377c7f369fe9d6f2bd961_IMAG01_20.jpg (175,333 bytes)\n",
      "Writing to img\\낢이사는이야기\\48\\20250310103947_792197c569e377c7f369fe9d6f2bd961_IMAG01_21.jpg (108,840 bytes)\n",
      "Writing to img\\낢이사는이야기\\48\\20250310103947_792197c569e377c7f369fe9d6f2bd961_IMAG01_22.jpg (107,072 bytes)\n",
      "Writing to img\\낢이사는이야기\\48\\20250310103947_792197c569e377c7f369fe9d6f2bd961_IMAG01_23.jpg (9,392 bytes)\n"
     ]
    }
   ],
   "source": [
    "download_one_episode('낢이사는이야기', 48, 'https://comic.naver.com/webtoon/detail?titleId=833255&no=49&week=tue')"
   ]
  },
  {
   "cell_type": "markdown",
   "id": "99b5f545",
   "metadata": {},
   "source": [
    "### 하나의 네이버 웹툰과 여러개의 회차에 대한 Image 다운로드 하기"
   ]
  },
  {
   "cell_type": "code",
   "execution_count": null,
   "id": "13eab0b1",
   "metadata": {},
   "outputs": [],
   "source": [
    "import requests\n",
    "from bs4 import BeautifulSoup\n",
    "from urllib.parse import urljoin, urlparse, parse_qs\n",
    "import os\n",
    "\n",
    "# 1개 회차 다운로드 함수\n",
    "def download_one_episode(title, no, url):\n",
    "    req_header = {\n",
    "        'referer': url\n",
    "    }\n",
    "\n",
    "    res = requests.get(url)\n",
    "    if res.ok:\n",
    "        soup = BeautifulSoup(res.text, 'html.parser')\n",
    "        img_tags = soup.select(\"img[src*='IMAG01']\")\n",
    "        img_url_list = [img_tag['src'] for img_tag in img_tags]\n",
    "\n",
    "        print(f'\\n {title} - {no}화 / 이미지 {len(img_url_list)}개\\n')\n",
    "\n",
    "        imgdir_name = os.path.join('img', title, str(no))\n",
    "        os.makedirs(imgdir_name, exist_ok=True)\n",
    "\n",
    "        for img_url in img_url_list:\n",
    "            res = requests.get(img_url, headers=req_header)\n",
    "            if res.ok:\n",
    "                img_data = res.content\n",
    "                file_name = os.path.basename(img_url)\n",
    "                file_path = os.path.join(imgdir_name, file_name)\n",
    "\n",
    "                with open(file_path, 'wb') as file:\n",
    "                    print(f'✔ Writing to {file_path} ({len(img_data):,} bytes)')\n",
    "                    file.write(img_data)\n",
    "            else:\n",
    "                print(f' 이미지 요청 실패: {img_url} (HTTP {res.status_code})')\n",
    "    else:\n",
    "        print(f' 페이지 요청 실패: {url} (HTTP {res.status_code})')\n",
    "\n",
    "\n",
    "# 여러 회차 다운로드 함수\n",
    "def download_all_episode(title, episode_url, target_episodes=None):\n",
    "    base_url = \"https://comic.naver.com\"\n",
    "\n",
    "    if target_episodes is None:\n",
    "        target_episodes = []  # 기본값\n",
    "\n",
    "    res = requests.get(episode_url)\n",
    "    if res.ok:\n",
    "        soup = BeautifulSoup(res.text, 'html.parser')\n",
    "\n",
    "        # 회차 링크 추출\n",
    "        a_tags = soup.select(\"a[href*='/webtoon/detail?titleId=']\")\n",
    "        href_list = []\n",
    "        for a in a_tags:\n",
    "            href = a['href']\n",
    "            if 'no=' in href:\n",
    "                full_url = urljoin(base_url, href)\n",
    "                href_list.append(full_url)\n",
    "\n",
    "        # 중복 제거 및 최신순 정렬\n",
    "        href_list = sorted(list(set(href_list)), reverse=True)\n",
    "\n",
    "        for detail_url in href_list:\n",
    "            parsed = urlparse(detail_url)\n",
    "            query_dict = parse_qs(parsed.query)\n",
    "            no = int(query_dict['no'][0]) + 1  # 실제 회차 번호\n",
    "\n",
    "            if no in target_episodes:\n",
    "                download_one_episode(title, no, detail_url)\n",
    "\n",
    "    else:\n",
    "        print(f' 리스트 페이지 요청 실패: {episode_url} (HTTP {res.status_code})')\n"
   ]
  },
  {
   "cell_type": "code",
   "execution_count": 18,
   "id": "07e92508",
   "metadata": {},
   "outputs": [
    {
     "name": "stdout",
     "output_type": "stream",
     "text": [
      "\n",
      " 낢이사는이야기 - 50화 / 이미지 25개\n",
      "\n",
      "✔ Writing to img\\낢이사는이야기\\50\\20250313163827_6e8c9e27c8762f59c83c74060a50b11e_IMAG01_1.jpg (149,465 bytes)\n",
      "✔ Writing to img\\낢이사는이야기\\50\\20250313163827_6e8c9e27c8762f59c83c74060a50b11e_IMAG01_2.jpg (152,009 bytes)\n",
      "✔ Writing to img\\낢이사는이야기\\50\\20250313163827_6e8c9e27c8762f59c83c74060a50b11e_IMAG01_3.jpg (151,939 bytes)\n",
      "✔ Writing to img\\낢이사는이야기\\50\\20250313163827_6e8c9e27c8762f59c83c74060a50b11e_IMAG01_4.jpg (93,087 bytes)\n",
      "✔ Writing to img\\낢이사는이야기\\50\\20250313163827_6e8c9e27c8762f59c83c74060a50b11e_IMAG01_5.jpg (129,682 bytes)\n",
      "✔ Writing to img\\낢이사는이야기\\50\\20250313163827_6e8c9e27c8762f59c83c74060a50b11e_IMAG01_6.jpg (160,999 bytes)\n",
      "✔ Writing to img\\낢이사는이야기\\50\\20250313163827_6e8c9e27c8762f59c83c74060a50b11e_IMAG01_7.jpg (96,284 bytes)\n",
      "✔ Writing to img\\낢이사는이야기\\50\\20250313163827_6e8c9e27c8762f59c83c74060a50b11e_IMAG01_8.jpg (114,123 bytes)\n",
      "✔ Writing to img\\낢이사는이야기\\50\\20250313163827_6e8c9e27c8762f59c83c74060a50b11e_IMAG01_9.jpg (116,672 bytes)\n",
      "✔ Writing to img\\낢이사는이야기\\50\\20250313163827_6e8c9e27c8762f59c83c74060a50b11e_IMAG01_10.jpg (121,448 bytes)\n",
      "✔ Writing to img\\낢이사는이야기\\50\\20250313163827_6e8c9e27c8762f59c83c74060a50b11e_IMAG01_11.jpg (157,592 bytes)\n",
      "✔ Writing to img\\낢이사는이야기\\50\\20250313163827_6e8c9e27c8762f59c83c74060a50b11e_IMAG01_12.jpg (122,012 bytes)\n",
      "✔ Writing to img\\낢이사는이야기\\50\\20250313163827_6e8c9e27c8762f59c83c74060a50b11e_IMAG01_13.jpg (110,887 bytes)\n",
      "✔ Writing to img\\낢이사는이야기\\50\\20250313163827_6e8c9e27c8762f59c83c74060a50b11e_IMAG01_14.jpg (129,668 bytes)\n",
      "✔ Writing to img\\낢이사는이야기\\50\\20250313163827_6e8c9e27c8762f59c83c74060a50b11e_IMAG01_15.jpg (121,327 bytes)\n",
      "✔ Writing to img\\낢이사는이야기\\50\\20250313163827_6e8c9e27c8762f59c83c74060a50b11e_IMAG01_16.jpg (94,682 bytes)\n",
      "✔ Writing to img\\낢이사는이야기\\50\\20250313163827_6e8c9e27c8762f59c83c74060a50b11e_IMAG01_17.jpg (123,876 bytes)\n",
      "✔ Writing to img\\낢이사는이야기\\50\\20250313163827_6e8c9e27c8762f59c83c74060a50b11e_IMAG01_18.jpg (140,972 bytes)\n",
      "✔ Writing to img\\낢이사는이야기\\50\\20250313163827_6e8c9e27c8762f59c83c74060a50b11e_IMAG01_19.jpg (83,534 bytes)\n",
      "✔ Writing to img\\낢이사는이야기\\50\\20250313163827_6e8c9e27c8762f59c83c74060a50b11e_IMAG01_20.jpg (130,956 bytes)\n",
      "✔ Writing to img\\낢이사는이야기\\50\\20250313163827_6e8c9e27c8762f59c83c74060a50b11e_IMAG01_21.jpg (94,865 bytes)\n",
      "✔ Writing to img\\낢이사는이야기\\50\\20250313163827_6e8c9e27c8762f59c83c74060a50b11e_IMAG01_22.jpg (155,379 bytes)\n",
      "✔ Writing to img\\낢이사는이야기\\50\\20250313163827_6e8c9e27c8762f59c83c74060a50b11e_IMAG01_23.jpg (171,055 bytes)\n",
      "✔ Writing to img\\낢이사는이야기\\50\\20250313163827_6e8c9e27c8762f59c83c74060a50b11e_IMAG01_24.jpg (84,547 bytes)\n",
      "✔ Writing to img\\낢이사는이야기\\50\\20250313163827_6e8c9e27c8762f59c83c74060a50b11e_IMAG01_25.jpg (131,403 bytes)\n",
      "\n",
      " 낢이사는이야기 - 49화 / 이미지 25개\n",
      "\n",
      "✔ Writing to img\\낢이사는이야기\\49\\20250311161718_49d9b68af514fc9e2ee85feb5edccb12_IMAG01_1.jpg (162,929 bytes)\n",
      "✔ Writing to img\\낢이사는이야기\\49\\20250311161718_49d9b68af514fc9e2ee85feb5edccb12_IMAG01_2.jpg (91,896 bytes)\n",
      "✔ Writing to img\\낢이사는이야기\\49\\20250311161718_49d9b68af514fc9e2ee85feb5edccb12_IMAG01_3.jpg (135,782 bytes)\n",
      "✔ Writing to img\\낢이사는이야기\\49\\20250311161718_49d9b68af514fc9e2ee85feb5edccb12_IMAG01_4.jpg (121,260 bytes)\n",
      "✔ Writing to img\\낢이사는이야기\\49\\20250311161718_49d9b68af514fc9e2ee85feb5edccb12_IMAG01_5.jpg (82,150 bytes)\n",
      "✔ Writing to img\\낢이사는이야기\\49\\20250311161718_49d9b68af514fc9e2ee85feb5edccb12_IMAG01_6.jpg (118,404 bytes)\n",
      "✔ Writing to img\\낢이사는이야기\\49\\20250311161718_49d9b68af514fc9e2ee85feb5edccb12_IMAG01_7.jpg (101,757 bytes)\n",
      "✔ Writing to img\\낢이사는이야기\\49\\20250311161718_49d9b68af514fc9e2ee85feb5edccb12_IMAG01_8.jpg (114,181 bytes)\n",
      "✔ Writing to img\\낢이사는이야기\\49\\20250311161718_49d9b68af514fc9e2ee85feb5edccb12_IMAG01_9.jpg (140,665 bytes)\n",
      "✔ Writing to img\\낢이사는이야기\\49\\20250311161718_49d9b68af514fc9e2ee85feb5edccb12_IMAG01_10.jpg (121,966 bytes)\n",
      "✔ Writing to img\\낢이사는이야기\\49\\20250311161718_49d9b68af514fc9e2ee85feb5edccb12_IMAG01_11.jpg (132,328 bytes)\n",
      "✔ Writing to img\\낢이사는이야기\\49\\20250311161718_49d9b68af514fc9e2ee85feb5edccb12_IMAG01_12.jpg (134,143 bytes)\n",
      "✔ Writing to img\\낢이사는이야기\\49\\20250311161718_49d9b68af514fc9e2ee85feb5edccb12_IMAG01_13.jpg (153,654 bytes)\n",
      "✔ Writing to img\\낢이사는이야기\\49\\20250311161718_49d9b68af514fc9e2ee85feb5edccb12_IMAG01_14.jpg (109,165 bytes)\n",
      "✔ Writing to img\\낢이사는이야기\\49\\20250311161718_49d9b68af514fc9e2ee85feb5edccb12_IMAG01_15.jpg (124,222 bytes)\n",
      "✔ Writing to img\\낢이사는이야기\\49\\20250311161718_49d9b68af514fc9e2ee85feb5edccb12_IMAG01_16.jpg (99,582 bytes)\n",
      "✔ Writing to img\\낢이사는이야기\\49\\20250311161718_49d9b68af514fc9e2ee85feb5edccb12_IMAG01_17.jpg (161,698 bytes)\n",
      "✔ Writing to img\\낢이사는이야기\\49\\20250311161718_49d9b68af514fc9e2ee85feb5edccb12_IMAG01_18.jpg (93,268 bytes)\n",
      "✔ Writing to img\\낢이사는이야기\\49\\20250311161718_49d9b68af514fc9e2ee85feb5edccb12_IMAG01_19.jpg (150,861 bytes)\n",
      "✔ Writing to img\\낢이사는이야기\\49\\20250311161718_49d9b68af514fc9e2ee85feb5edccb12_IMAG01_20.jpg (135,670 bytes)\n",
      "✔ Writing to img\\낢이사는이야기\\49\\20250311161718_49d9b68af514fc9e2ee85feb5edccb12_IMAG01_21.jpg (107,255 bytes)\n",
      "✔ Writing to img\\낢이사는이야기\\49\\20250311161718_49d9b68af514fc9e2ee85feb5edccb12_IMAG01_22.jpg (103,033 bytes)\n",
      "✔ Writing to img\\낢이사는이야기\\49\\20250311161718_49d9b68af514fc9e2ee85feb5edccb12_IMAG01_23.jpg (195,625 bytes)\n",
      "✔ Writing to img\\낢이사는이야기\\49\\20250311161718_49d9b68af514fc9e2ee85feb5edccb12_IMAG01_24.jpg (75,233 bytes)\n",
      "✔ Writing to img\\낢이사는이야기\\49\\20250311161718_49d9b68af514fc9e2ee85feb5edccb12_IMAG01_25.jpg (1,155 bytes)\n",
      "\n",
      " 낢이사는이야기 - 48화 / 이미지 23개\n",
      "\n",
      "✔ Writing to img\\낢이사는이야기\\48\\20250310103947_792197c569e377c7f369fe9d6f2bd961_IMAG01_1.jpg (166,289 bytes)\n",
      "✔ Writing to img\\낢이사는이야기\\48\\20250310103947_792197c569e377c7f369fe9d6f2bd961_IMAG01_2.jpg (117,581 bytes)\n",
      "✔ Writing to img\\낢이사는이야기\\48\\20250310103947_792197c569e377c7f369fe9d6f2bd961_IMAG01_3.jpg (175,647 bytes)\n",
      "✔ Writing to img\\낢이사는이야기\\48\\20250310103947_792197c569e377c7f369fe9d6f2bd961_IMAG01_4.jpg (140,295 bytes)\n",
      "✔ Writing to img\\낢이사는이야기\\48\\20250310103947_792197c569e377c7f369fe9d6f2bd961_IMAG01_5.jpg (115,277 bytes)\n",
      "✔ Writing to img\\낢이사는이야기\\48\\20250310103947_792197c569e377c7f369fe9d6f2bd961_IMAG01_6.jpg (86,840 bytes)\n",
      "✔ Writing to img\\낢이사는이야기\\48\\20250310103947_792197c569e377c7f369fe9d6f2bd961_IMAG01_7.jpg (151,280 bytes)\n",
      "✔ Writing to img\\낢이사는이야기\\48\\20250310103947_792197c569e377c7f369fe9d6f2bd961_IMAG01_8.jpg (146,198 bytes)\n",
      "✔ Writing to img\\낢이사는이야기\\48\\20250310103947_792197c569e377c7f369fe9d6f2bd961_IMAG01_9.jpg (86,460 bytes)\n",
      "✔ Writing to img\\낢이사는이야기\\48\\20250310103947_792197c569e377c7f369fe9d6f2bd961_IMAG01_10.jpg (152,631 bytes)\n",
      "✔ Writing to img\\낢이사는이야기\\48\\20250310103947_792197c569e377c7f369fe9d6f2bd961_IMAG01_11.jpg (236,174 bytes)\n",
      "✔ Writing to img\\낢이사는이야기\\48\\20250310103947_792197c569e377c7f369fe9d6f2bd961_IMAG01_12.jpg (218,403 bytes)\n",
      "✔ Writing to img\\낢이사는이야기\\48\\20250310103947_792197c569e377c7f369fe9d6f2bd961_IMAG01_13.jpg (126,874 bytes)\n",
      "✔ Writing to img\\낢이사는이야기\\48\\20250310103947_792197c569e377c7f369fe9d6f2bd961_IMAG01_14.jpg (169,822 bytes)\n",
      "✔ Writing to img\\낢이사는이야기\\48\\20250310103947_792197c569e377c7f369fe9d6f2bd961_IMAG01_15.jpg (100,097 bytes)\n",
      "✔ Writing to img\\낢이사는이야기\\48\\20250310103947_792197c569e377c7f369fe9d6f2bd961_IMAG01_16.jpg (138,348 bytes)\n",
      "✔ Writing to img\\낢이사는이야기\\48\\20250310103947_792197c569e377c7f369fe9d6f2bd961_IMAG01_17.jpg (136,580 bytes)\n",
      "✔ Writing to img\\낢이사는이야기\\48\\20250310103947_792197c569e377c7f369fe9d6f2bd961_IMAG01_18.jpg (127,154 bytes)\n",
      "✔ Writing to img\\낢이사는이야기\\48\\20250310103947_792197c569e377c7f369fe9d6f2bd961_IMAG01_19.jpg (155,183 bytes)\n",
      "✔ Writing to img\\낢이사는이야기\\48\\20250310103947_792197c569e377c7f369fe9d6f2bd961_IMAG01_20.jpg (175,333 bytes)\n",
      "✔ Writing to img\\낢이사는이야기\\48\\20250310103947_792197c569e377c7f369fe9d6f2bd961_IMAG01_21.jpg (108,840 bytes)\n",
      "✔ Writing to img\\낢이사는이야기\\48\\20250310103947_792197c569e377c7f369fe9d6f2bd961_IMAG01_22.jpg (107,072 bytes)\n",
      "✔ Writing to img\\낢이사는이야기\\48\\20250310103947_792197c569e377c7f369fe9d6f2bd961_IMAG01_23.jpg (9,392 bytes)\n"
     ]
    }
   ],
   "source": [
    "# 강제로 원하는 회차만 지정\n",
    "download_one_episode('낢이사는이야기', 50, 'https://comic.naver.com/webtoon/detail?titleId=833255&no=51&week=tue')\n",
    "download_one_episode('낢이사는이야기', 49, 'https://comic.naver.com/webtoon/detail?titleId=833255&no=50&week=tue')\n",
    "download_one_episode('낢이사는이야기', 48, 'https://comic.naver.com/webtoon/detail?titleId=833255&no=49&week=tue')"
   ]
  }
 ],
 "metadata": {
  "kernelspec": {
   "display_name": "base",
   "language": "python",
   "name": "python3"
  },
  "language_info": {
   "codemirror_mode": {
    "name": "ipython",
    "version": 3
   },
   "file_extension": ".py",
   "mimetype": "text/x-python",
   "name": "python",
   "nbconvert_exporter": "python",
   "pygments_lexer": "ipython3",
   "version": "3.12.7"
  }
 },
 "nbformat": 4,
 "nbformat_minor": 5
}
